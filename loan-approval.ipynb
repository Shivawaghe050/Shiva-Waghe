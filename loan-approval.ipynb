{
 "cells": [
  {
   "cell_type": "markdown",
   "id": "a0ce4152",
   "metadata": {
    "id": "9jV3Wtqs6AcK",
    "papermill": {
     "duration": 0.016347,
     "end_time": "2024-03-01T04:03:09.483525",
     "exception": false,
     "start_time": "2024-03-01T04:03:09.467178",
     "status": "completed"
    },
    "tags": []
   },
   "source": [
    "# **Library's Import**"
   ]
  },
  {
   "cell_type": "code",
   "execution_count": 1,
   "id": "abb14ac2",
   "metadata": {
    "execution": {
     "iopub.execute_input": "2024-03-01T04:03:09.517295Z",
     "iopub.status.busy": "2024-03-01T04:03:09.516862Z",
     "iopub.status.idle": "2024-03-01T04:03:11.965965Z",
     "shell.execute_reply": "2024-03-01T04:03:11.964816Z"
    },
    "id": "Nx_aV2KItUcG",
    "papermill": {
     "duration": 2.469416,
     "end_time": "2024-03-01T04:03:11.968423",
     "exception": false,
     "start_time": "2024-03-01T04:03:09.499007",
     "status": "completed"
    },
    "tags": []
   },
   "outputs": [],
   "source": [
    "import warnings\n",
    "warnings.filterwarnings(\"ignore\")\n",
    "import pandas as pd\n",
    "import numpy as np\n",
    "import matplotlib.pyplot as plt\n",
    "import seaborn as sns\n",
    "from sklearn.linear_model import LogisticRegression\n",
    "from sklearn.svm import SVC\n",
    "from sklearn.metrics import confusion_matrix,accuracy_score,precision_score,recall_score,f1_score\n",
    "from sklearn.metrics import classification_report"
   ]
  },
  {
   "cell_type": "markdown",
   "id": "a19ce546",
   "metadata": {
    "id": "91P3zK-atm4t",
    "papermill": {
     "duration": 0.015032,
     "end_time": "2024-03-01T04:03:11.998968",
     "exception": false,
     "start_time": "2024-03-01T04:03:11.983936",
     "status": "completed"
    },
    "tags": []
   },
   "source": [
    "# **EDA (DATA UNDERSTANDING)**\n",
    "\n",
    "\n",
    "1.Uploading CSV file.\n",
    "\n",
    "2.Info.\n",
    "\n",
    "3.Rows and Column.\n",
    "\n",
    "4.Keys works.\n",
    "\n",
    "5.Head & tail.\n",
    "\n",
    "6.Null values.\n",
    "\n",
    "7.Duplicate values.\n",
    "\n",
    "8.nunique Values all rows"
   ]
  },
  {
   "cell_type": "code",
   "execution_count": 2,
   "id": "5b810a35",
   "metadata": {
    "execution": {
     "iopub.execute_input": "2024-03-01T04:03:12.032198Z",
     "iopub.status.busy": "2024-03-01T04:03:12.031229Z",
     "iopub.status.idle": "2024-03-01T04:03:12.050762Z",
     "shell.execute_reply": "2024-03-01T04:03:12.049647Z"
    },
    "id": "Sqc5fpfKticG",
    "papermill": {
     "duration": 0.038654,
     "end_time": "2024-03-01T04:03:12.053152",
     "exception": false,
     "start_time": "2024-03-01T04:03:12.014498",
     "status": "completed"
    },
    "tags": []
   },
   "outputs": [],
   "source": [
    "# Uploding CSV file\n",
    "data=pd.read_csv(\"/kaggle/input/loan-approval-data-set/Loan_Train.csv\")"
   ]
  },
  {
   "cell_type": "code",
   "execution_count": 3,
   "id": "b29d1eab",
   "metadata": {
    "execution": {
     "iopub.execute_input": "2024-03-01T04:03:12.086464Z",
     "iopub.status.busy": "2024-03-01T04:03:12.085402Z",
     "iopub.status.idle": "2024-03-01T04:03:12.112022Z",
     "shell.execute_reply": "2024-03-01T04:03:12.110579Z"
    },
    "id": "JueIEv0Btqqt",
    "outputId": "655df8a2-9a33-4c61-9900-af7525d8aa45",
    "papermill": {
     "duration": 0.045674,
     "end_time": "2024-03-01T04:03:12.114505",
     "exception": false,
     "start_time": "2024-03-01T04:03:12.068831",
     "status": "completed"
    },
    "tags": []
   },
   "outputs": [
    {
     "name": "stdout",
     "output_type": "stream",
     "text": [
      "<class 'pandas.core.frame.DataFrame'>\n",
      "RangeIndex: 614 entries, 0 to 613\n",
      "Data columns (total 13 columns):\n",
      " #   Column             Non-Null Count  Dtype  \n",
      "---  ------             --------------  -----  \n",
      " 0   Loan_ID            614 non-null    object \n",
      " 1   Gender             601 non-null    object \n",
      " 2   Married            611 non-null    object \n",
      " 3   Dependents         599 non-null    object \n",
      " 4   Education          614 non-null    object \n",
      " 5   Self_Employed      582 non-null    object \n",
      " 6   ApplicantIncome    614 non-null    int64  \n",
      " 7   CoapplicantIncome  614 non-null    float64\n",
      " 8   LoanAmount         592 non-null    float64\n",
      " 9   Loan_Amount_Term   600 non-null    float64\n",
      " 10  Credit_History     564 non-null    float64\n",
      " 11  Property_Area      614 non-null    object \n",
      " 12  Loan_Status        614 non-null    object \n",
      "dtypes: float64(4), int64(1), object(8)\n",
      "memory usage: 62.5+ KB\n"
     ]
    }
   ],
   "source": [
    "data.info()"
   ]
  },
  {
   "cell_type": "markdown",
   "id": "0e9229a0",
   "metadata": {
    "id": "xGHrkkLvtwJS",
    "papermill": {
     "duration": 0.015188,
     "end_time": "2024-03-01T04:03:12.145246",
     "exception": false,
     "start_time": "2024-03-01T04:03:12.130058",
     "status": "completed"
    },
    "tags": []
   },
   "source": [
    "**1.**We can see the there are some numerical value in data set.\n",
    "\n",
    "**2.**Our target vairable is \"Loan Status\""
   ]
  },
  {
   "cell_type": "code",
   "execution_count": 4,
   "id": "b85546c4",
   "metadata": {
    "execution": {
     "iopub.execute_input": "2024-03-01T04:03:12.178795Z",
     "iopub.status.busy": "2024-03-01T04:03:12.178376Z",
     "iopub.status.idle": "2024-03-01T04:03:12.183209Z",
     "shell.execute_reply": "2024-03-01T04:03:12.182510Z"
    },
    "id": "Dwb41AHXttUE",
    "outputId": "b8f97db4-8f2e-4148-a2c7-2a35974bd2c2",
    "papermill": {
     "duration": 0.024643,
     "end_time": "2024-03-01T04:03:12.185629",
     "exception": false,
     "start_time": "2024-03-01T04:03:12.160986",
     "status": "completed"
    },
    "tags": []
   },
   "outputs": [
    {
     "name": "stdout",
     "output_type": "stream",
     "text": [
      "number of Rows 614\n",
      "number of column 13\n"
     ]
    }
   ],
   "source": [
    "print(\"number of Rows\",data.shape[0])\n",
    "print(\"number of column\",data.shape[1])"
   ]
  },
  {
   "cell_type": "markdown",
   "id": "97603a55",
   "metadata": {
    "id": "-YH4EL9st0j5",
    "papermill": {
     "duration": 0.015613,
     "end_time": "2024-03-01T04:03:12.217533",
     "exception": false,
     "start_time": "2024-03-01T04:03:12.201920",
     "status": "completed"
    },
    "tags": []
   },
   "source": [
    "In the data set there are **13 Rows**(Horizontal),and **614 column**(Vertical)"
   ]
  },
  {
   "cell_type": "code",
   "execution_count": 5,
   "id": "c76d65bd",
   "metadata": {
    "execution": {
     "iopub.execute_input": "2024-03-01T04:03:12.252067Z",
     "iopub.status.busy": "2024-03-01T04:03:12.250646Z",
     "iopub.status.idle": "2024-03-01T04:03:12.259323Z",
     "shell.execute_reply": "2024-03-01T04:03:12.258281Z"
    },
    "id": "_0_itcHutyqL",
    "outputId": "3431e52b-a3bb-4056-ca8f-db95b36ec5e6",
    "papermill": {
     "duration": 0.02799,
     "end_time": "2024-03-01T04:03:12.261446",
     "exception": false,
     "start_time": "2024-03-01T04:03:12.233456",
     "status": "completed"
    },
    "tags": []
   },
   "outputs": [
    {
     "data": {
      "text/plain": [
       "Index(['Loan_ID', 'Gender', 'Married', 'Dependents', 'Education',\n",
       "       'Self_Employed', 'ApplicantIncome', 'CoapplicantIncome', 'LoanAmount',\n",
       "       'Loan_Amount_Term', 'Credit_History', 'Property_Area', 'Loan_Status'],\n",
       "      dtype='object')"
      ]
     },
     "execution_count": 5,
     "metadata": {},
     "output_type": "execute_result"
    }
   ],
   "source": [
    "data.columns"
   ]
  },
  {
   "cell_type": "markdown",
   "id": "ea27e01c",
   "metadata": {
    "id": "gGNBnZmvt5-3",
    "papermill": {
     "duration": 0.015954,
     "end_time": "2024-03-01T04:03:12.294015",
     "exception": false,
     "start_time": "2024-03-01T04:03:12.278061",
     "status": "completed"
    },
    "tags": []
   },
   "source": [
    "We found 13 unique kyes\n",
    "\n",
    "1**.Loan ID**-- Customer ID **unique Id**\n",
    "\n",
    "2.**Gender**-- male & female\n",
    "\n",
    "3.**Married**-- Yes & No\n",
    "\n",
    "4.**Dependents**-- 0 OR 1\n",
    "\n",
    "5.**Education**-- Graduate OR under graduate\n",
    "\n",
    "6.**Self Employed**-- Yes & no\n",
    "\n",
    "7.**Applicant Income**-- Applicant Yearly Income.\n",
    "\n",
    "8.**Co-applicant Income**-- Co-applicant Income\n",
    "\n",
    "9.**LoanAmount**-- Loan amount in thousands\n",
    "\n",
    "10.**Loan Amount Term**-- Term loan in months\n",
    "\n",
    "11.**Credit History**-- credit history meets guidelines\n",
    "\n",
    "12.**Property Area**-- Urban/ Semi Urban/ Rural\n",
    "\n",
    "13.**Loan Status**--  Loan approved Yes or No (**Target**)\n"
   ]
  },
  {
   "cell_type": "code",
   "execution_count": 6,
   "id": "22ba0de6",
   "metadata": {
    "execution": {
     "iopub.execute_input": "2024-03-01T04:03:12.327826Z",
     "iopub.status.busy": "2024-03-01T04:03:12.327086Z",
     "iopub.status.idle": "2024-03-01T04:03:12.349502Z",
     "shell.execute_reply": "2024-03-01T04:03:12.348458Z"
    },
    "id": "usCUVqhvt32D",
    "outputId": "88d48428-98b0-4183-f865-5d1fc3993933",
    "papermill": {
     "duration": 0.041781,
     "end_time": "2024-03-01T04:03:12.351855",
     "exception": false,
     "start_time": "2024-03-01T04:03:12.310074",
     "status": "completed"
    },
    "tags": []
   },
   "outputs": [
    {
     "data": {
      "text/html": [
       "<div>\n",
       "<style scoped>\n",
       "    .dataframe tbody tr th:only-of-type {\n",
       "        vertical-align: middle;\n",
       "    }\n",
       "\n",
       "    .dataframe tbody tr th {\n",
       "        vertical-align: top;\n",
       "    }\n",
       "\n",
       "    .dataframe thead th {\n",
       "        text-align: right;\n",
       "    }\n",
       "</style>\n",
       "<table border=\"1\" class=\"dataframe\">\n",
       "  <thead>\n",
       "    <tr style=\"text-align: right;\">\n",
       "      <th></th>\n",
       "      <th>Loan_ID</th>\n",
       "      <th>Gender</th>\n",
       "      <th>Married</th>\n",
       "      <th>Dependents</th>\n",
       "      <th>Education</th>\n",
       "      <th>Self_Employed</th>\n",
       "      <th>ApplicantIncome</th>\n",
       "      <th>CoapplicantIncome</th>\n",
       "      <th>LoanAmount</th>\n",
       "      <th>Loan_Amount_Term</th>\n",
       "      <th>Credit_History</th>\n",
       "      <th>Property_Area</th>\n",
       "      <th>Loan_Status</th>\n",
       "    </tr>\n",
       "  </thead>\n",
       "  <tbody>\n",
       "    <tr>\n",
       "      <th>0</th>\n",
       "      <td>LP001002</td>\n",
       "      <td>Male</td>\n",
       "      <td>No</td>\n",
       "      <td>0</td>\n",
       "      <td>Graduate</td>\n",
       "      <td>No</td>\n",
       "      <td>5849</td>\n",
       "      <td>0.0</td>\n",
       "      <td>NaN</td>\n",
       "      <td>360.0</td>\n",
       "      <td>1.0</td>\n",
       "      <td>Urban</td>\n",
       "      <td>Y</td>\n",
       "    </tr>\n",
       "    <tr>\n",
       "      <th>1</th>\n",
       "      <td>LP001003</td>\n",
       "      <td>Male</td>\n",
       "      <td>Yes</td>\n",
       "      <td>1</td>\n",
       "      <td>Graduate</td>\n",
       "      <td>No</td>\n",
       "      <td>4583</td>\n",
       "      <td>1508.0</td>\n",
       "      <td>128.0</td>\n",
       "      <td>360.0</td>\n",
       "      <td>1.0</td>\n",
       "      <td>Rural</td>\n",
       "      <td>N</td>\n",
       "    </tr>\n",
       "    <tr>\n",
       "      <th>2</th>\n",
       "      <td>LP001005</td>\n",
       "      <td>Male</td>\n",
       "      <td>Yes</td>\n",
       "      <td>0</td>\n",
       "      <td>Graduate</td>\n",
       "      <td>Yes</td>\n",
       "      <td>3000</td>\n",
       "      <td>0.0</td>\n",
       "      <td>66.0</td>\n",
       "      <td>360.0</td>\n",
       "      <td>1.0</td>\n",
       "      <td>Urban</td>\n",
       "      <td>Y</td>\n",
       "    </tr>\n",
       "    <tr>\n",
       "      <th>3</th>\n",
       "      <td>LP001006</td>\n",
       "      <td>Male</td>\n",
       "      <td>Yes</td>\n",
       "      <td>0</td>\n",
       "      <td>Not Graduate</td>\n",
       "      <td>No</td>\n",
       "      <td>2583</td>\n",
       "      <td>2358.0</td>\n",
       "      <td>120.0</td>\n",
       "      <td>360.0</td>\n",
       "      <td>1.0</td>\n",
       "      <td>Urban</td>\n",
       "      <td>Y</td>\n",
       "    </tr>\n",
       "    <tr>\n",
       "      <th>4</th>\n",
       "      <td>LP001008</td>\n",
       "      <td>Male</td>\n",
       "      <td>No</td>\n",
       "      <td>0</td>\n",
       "      <td>Graduate</td>\n",
       "      <td>No</td>\n",
       "      <td>6000</td>\n",
       "      <td>0.0</td>\n",
       "      <td>141.0</td>\n",
       "      <td>360.0</td>\n",
       "      <td>1.0</td>\n",
       "      <td>Urban</td>\n",
       "      <td>Y</td>\n",
       "    </tr>\n",
       "  </tbody>\n",
       "</table>\n",
       "</div>"
      ],
      "text/plain": [
       "    Loan_ID Gender Married Dependents     Education Self_Employed  \\\n",
       "0  LP001002   Male      No          0      Graduate            No   \n",
       "1  LP001003   Male     Yes          1      Graduate            No   \n",
       "2  LP001005   Male     Yes          0      Graduate           Yes   \n",
       "3  LP001006   Male     Yes          0  Not Graduate            No   \n",
       "4  LP001008   Male      No          0      Graduate            No   \n",
       "\n",
       "   ApplicantIncome  CoapplicantIncome  LoanAmount  Loan_Amount_Term  \\\n",
       "0             5849                0.0         NaN             360.0   \n",
       "1             4583             1508.0       128.0             360.0   \n",
       "2             3000                0.0        66.0             360.0   \n",
       "3             2583             2358.0       120.0             360.0   \n",
       "4             6000                0.0       141.0             360.0   \n",
       "\n",
       "   Credit_History Property_Area Loan_Status  \n",
       "0             1.0         Urban           Y  \n",
       "1             1.0         Rural           N  \n",
       "2             1.0         Urban           Y  \n",
       "3             1.0         Urban           Y  \n",
       "4             1.0         Urban           Y  "
      ]
     },
     "execution_count": 6,
     "metadata": {},
     "output_type": "execute_result"
    }
   ],
   "source": [
    "data.head()"
   ]
  },
  {
   "cell_type": "markdown",
   "id": "70c3edb1",
   "metadata": {
    "id": "Z20d3OIVhG7Z",
    "papermill": {
     "duration": 0.016054,
     "end_time": "2024-03-01T04:03:12.384212",
     "exception": false,
     "start_time": "2024-03-01T04:03:12.368158",
     "status": "completed"
    },
    "tags": []
   },
   "source": [
    "First five Rows & Columns"
   ]
  },
  {
   "cell_type": "code",
   "execution_count": 7,
   "id": "abd2f63f",
   "metadata": {
    "execution": {
     "iopub.execute_input": "2024-03-01T04:03:12.418970Z",
     "iopub.status.busy": "2024-03-01T04:03:12.418206Z",
     "iopub.status.idle": "2024-03-01T04:03:12.435221Z",
     "shell.execute_reply": "2024-03-01T04:03:12.434132Z"
    },
    "id": "h5Jf8dLPt9k7",
    "outputId": "cfbbf1f9-9c23-4197-a7b8-dc4134439f23",
    "papermill": {
     "duration": 0.036923,
     "end_time": "2024-03-01T04:03:12.437364",
     "exception": false,
     "start_time": "2024-03-01T04:03:12.400441",
     "status": "completed"
    },
    "tags": []
   },
   "outputs": [
    {
     "data": {
      "text/html": [
       "<div>\n",
       "<style scoped>\n",
       "    .dataframe tbody tr th:only-of-type {\n",
       "        vertical-align: middle;\n",
       "    }\n",
       "\n",
       "    .dataframe tbody tr th {\n",
       "        vertical-align: top;\n",
       "    }\n",
       "\n",
       "    .dataframe thead th {\n",
       "        text-align: right;\n",
       "    }\n",
       "</style>\n",
       "<table border=\"1\" class=\"dataframe\">\n",
       "  <thead>\n",
       "    <tr style=\"text-align: right;\">\n",
       "      <th></th>\n",
       "      <th>Loan_ID</th>\n",
       "      <th>Gender</th>\n",
       "      <th>Married</th>\n",
       "      <th>Dependents</th>\n",
       "      <th>Education</th>\n",
       "      <th>Self_Employed</th>\n",
       "      <th>ApplicantIncome</th>\n",
       "      <th>CoapplicantIncome</th>\n",
       "      <th>LoanAmount</th>\n",
       "      <th>Loan_Amount_Term</th>\n",
       "      <th>Credit_History</th>\n",
       "      <th>Property_Area</th>\n",
       "      <th>Loan_Status</th>\n",
       "    </tr>\n",
       "  </thead>\n",
       "  <tbody>\n",
       "    <tr>\n",
       "      <th>609</th>\n",
       "      <td>LP002978</td>\n",
       "      <td>Female</td>\n",
       "      <td>No</td>\n",
       "      <td>0</td>\n",
       "      <td>Graduate</td>\n",
       "      <td>No</td>\n",
       "      <td>2900</td>\n",
       "      <td>0.0</td>\n",
       "      <td>71.0</td>\n",
       "      <td>360.0</td>\n",
       "      <td>1.0</td>\n",
       "      <td>Rural</td>\n",
       "      <td>Y</td>\n",
       "    </tr>\n",
       "    <tr>\n",
       "      <th>610</th>\n",
       "      <td>LP002979</td>\n",
       "      <td>Male</td>\n",
       "      <td>Yes</td>\n",
       "      <td>3+</td>\n",
       "      <td>Graduate</td>\n",
       "      <td>No</td>\n",
       "      <td>4106</td>\n",
       "      <td>0.0</td>\n",
       "      <td>40.0</td>\n",
       "      <td>180.0</td>\n",
       "      <td>1.0</td>\n",
       "      <td>Rural</td>\n",
       "      <td>Y</td>\n",
       "    </tr>\n",
       "    <tr>\n",
       "      <th>611</th>\n",
       "      <td>LP002983</td>\n",
       "      <td>Male</td>\n",
       "      <td>Yes</td>\n",
       "      <td>1</td>\n",
       "      <td>Graduate</td>\n",
       "      <td>No</td>\n",
       "      <td>8072</td>\n",
       "      <td>240.0</td>\n",
       "      <td>253.0</td>\n",
       "      <td>360.0</td>\n",
       "      <td>1.0</td>\n",
       "      <td>Urban</td>\n",
       "      <td>Y</td>\n",
       "    </tr>\n",
       "    <tr>\n",
       "      <th>612</th>\n",
       "      <td>LP002984</td>\n",
       "      <td>Male</td>\n",
       "      <td>Yes</td>\n",
       "      <td>2</td>\n",
       "      <td>Graduate</td>\n",
       "      <td>No</td>\n",
       "      <td>7583</td>\n",
       "      <td>0.0</td>\n",
       "      <td>187.0</td>\n",
       "      <td>360.0</td>\n",
       "      <td>1.0</td>\n",
       "      <td>Urban</td>\n",
       "      <td>Y</td>\n",
       "    </tr>\n",
       "    <tr>\n",
       "      <th>613</th>\n",
       "      <td>LP002990</td>\n",
       "      <td>Female</td>\n",
       "      <td>No</td>\n",
       "      <td>0</td>\n",
       "      <td>Graduate</td>\n",
       "      <td>Yes</td>\n",
       "      <td>4583</td>\n",
       "      <td>0.0</td>\n",
       "      <td>133.0</td>\n",
       "      <td>360.0</td>\n",
       "      <td>0.0</td>\n",
       "      <td>Semiurban</td>\n",
       "      <td>N</td>\n",
       "    </tr>\n",
       "  </tbody>\n",
       "</table>\n",
       "</div>"
      ],
      "text/plain": [
       "      Loan_ID  Gender Married Dependents Education Self_Employed  \\\n",
       "609  LP002978  Female      No          0  Graduate            No   \n",
       "610  LP002979    Male     Yes         3+  Graduate            No   \n",
       "611  LP002983    Male     Yes          1  Graduate            No   \n",
       "612  LP002984    Male     Yes          2  Graduate            No   \n",
       "613  LP002990  Female      No          0  Graduate           Yes   \n",
       "\n",
       "     ApplicantIncome  CoapplicantIncome  LoanAmount  Loan_Amount_Term  \\\n",
       "609             2900                0.0        71.0             360.0   \n",
       "610             4106                0.0        40.0             180.0   \n",
       "611             8072              240.0       253.0             360.0   \n",
       "612             7583                0.0       187.0             360.0   \n",
       "613             4583                0.0       133.0             360.0   \n",
       "\n",
       "     Credit_History Property_Area Loan_Status  \n",
       "609             1.0         Rural           Y  \n",
       "610             1.0         Rural           Y  \n",
       "611             1.0         Urban           Y  \n",
       "612             1.0         Urban           Y  \n",
       "613             0.0     Semiurban           N  "
      ]
     },
     "execution_count": 7,
     "metadata": {},
     "output_type": "execute_result"
    }
   ],
   "source": [
    "data.tail()"
   ]
  },
  {
   "cell_type": "markdown",
   "id": "fd632d88",
   "metadata": {
    "id": "Eubjd_F8hOX5",
    "papermill": {
     "duration": 0.016306,
     "end_time": "2024-03-01T04:03:12.470079",
     "exception": false,
     "start_time": "2024-03-01T04:03:12.453773",
     "status": "completed"
    },
    "tags": []
   },
   "source": [
    "last five Rows & Columns"
   ]
  },
  {
   "cell_type": "code",
   "execution_count": 8,
   "id": "b95b8822",
   "metadata": {
    "execution": {
     "iopub.execute_input": "2024-03-01T04:03:12.505183Z",
     "iopub.status.busy": "2024-03-01T04:03:12.504232Z",
     "iopub.status.idle": "2024-03-01T04:03:12.513066Z",
     "shell.execute_reply": "2024-03-01T04:03:12.512050Z"
    },
    "id": "FJFQQxa4t-2h",
    "outputId": "736eec06-59d0-4199-dd96-dc77e0e40b05",
    "papermill": {
     "duration": 0.02852,
     "end_time": "2024-03-01T04:03:12.515096",
     "exception": false,
     "start_time": "2024-03-01T04:03:12.486576",
     "status": "completed"
    },
    "tags": []
   },
   "outputs": [
    {
     "data": {
      "text/plain": [
       "Loan_ID               0\n",
       "Gender               13\n",
       "Married               3\n",
       "Dependents           15\n",
       "Education             0\n",
       "Self_Employed        32\n",
       "ApplicantIncome       0\n",
       "CoapplicantIncome     0\n",
       "LoanAmount           22\n",
       "Loan_Amount_Term     14\n",
       "Credit_History       50\n",
       "Property_Area         0\n",
       "Loan_Status           0\n",
       "dtype: int64"
      ]
     },
     "execution_count": 8,
     "metadata": {},
     "output_type": "execute_result"
    }
   ],
   "source": [
    "data.isnull().sum()"
   ]
  },
  {
   "cell_type": "markdown",
   "id": "48652658",
   "metadata": {
    "id": "CrY5ADDguFjQ",
    "papermill": {
     "duration": 0.016362,
     "end_time": "2024-03-01T04:03:12.547832",
     "exception": false,
     "start_time": "2024-03-01T04:03:12.531470",
     "status": "completed"
    },
    "tags": []
   },
   "source": [
    "The dataset contains null values."
   ]
  },
  {
   "cell_type": "code",
   "execution_count": 9,
   "id": "a816eb3b",
   "metadata": {
    "execution": {
     "iopub.execute_input": "2024-03-01T04:03:12.582650Z",
     "iopub.status.busy": "2024-03-01T04:03:12.582263Z",
     "iopub.status.idle": "2024-03-01T04:03:12.589849Z",
     "shell.execute_reply": "2024-03-01T04:03:12.588777Z"
    },
    "id": "yLtGYRq0uDRq",
    "outputId": "1ffbbcf7-fa56-4e84-d1e8-7f29f9cb2579",
    "papermill": {
     "duration": 0.027647,
     "end_time": "2024-03-01T04:03:12.591969",
     "exception": false,
     "start_time": "2024-03-01T04:03:12.564322",
     "status": "completed"
    },
    "tags": []
   },
   "outputs": [
    {
     "data": {
      "text/plain": [
       "149"
      ]
     },
     "execution_count": 9,
     "metadata": {},
     "output_type": "execute_result"
    }
   ],
   "source": [
    "data.isnull().sum().sum()"
   ]
  },
  {
   "cell_type": "markdown",
   "id": "4ed8ecb4",
   "metadata": {
    "id": "gZdRZZYpuJfk",
    "papermill": {
     "duration": 0.016543,
     "end_time": "2024-03-01T04:03:12.625179",
     "exception": false,
     "start_time": "2024-03-01T04:03:12.608636",
     "status": "completed"
    },
    "tags": []
   },
   "source": [
    "Sum of Null value."
   ]
  },
  {
   "cell_type": "code",
   "execution_count": 10,
   "id": "5d4f2cdd",
   "metadata": {
    "execution": {
     "iopub.execute_input": "2024-03-01T04:03:12.717617Z",
     "iopub.status.busy": "2024-03-01T04:03:12.717037Z",
     "iopub.status.idle": "2024-03-01T04:03:12.725294Z",
     "shell.execute_reply": "2024-03-01T04:03:12.724217Z"
    },
    "id": "rWRlJa4b4dbL",
    "outputId": "c9f77c40-da66-4c8b-c87d-97c9059384be",
    "papermill": {
     "duration": 0.085363,
     "end_time": "2024-03-01T04:03:12.727252",
     "exception": false,
     "start_time": "2024-03-01T04:03:12.641889",
     "status": "completed"
    },
    "tags": []
   },
   "outputs": [
    {
     "data": {
      "text/plain": [
       "0"
      ]
     },
     "execution_count": 10,
     "metadata": {},
     "output_type": "execute_result"
    }
   ],
   "source": [
    "data.duplicated().sum()"
   ]
  },
  {
   "cell_type": "markdown",
   "id": "f86b5384",
   "metadata": {
    "id": "HexzMpbPuUDw",
    "papermill": {
     "duration": 0.016824,
     "end_time": "2024-03-01T04:03:12.761206",
     "exception": false,
     "start_time": "2024-03-01T04:03:12.744382",
     "status": "completed"
    },
    "tags": []
   },
   "source": [
    "There are no duplicate values in the dataset."
   ]
  },
  {
   "cell_type": "code",
   "execution_count": 11,
   "id": "10f49b85",
   "metadata": {
    "execution": {
     "iopub.execute_input": "2024-03-01T04:03:12.797268Z",
     "iopub.status.busy": "2024-03-01T04:03:12.796569Z",
     "iopub.status.idle": "2024-03-01T04:03:12.821165Z",
     "shell.execute_reply": "2024-03-01T04:03:12.820281Z"
    },
    "id": "J4mP34u5uOXy",
    "outputId": "cb153abc-9805-4627-a4e9-434426a04f10",
    "papermill": {
     "duration": 0.044898,
     "end_time": "2024-03-01T04:03:12.823097",
     "exception": false,
     "start_time": "2024-03-01T04:03:12.778199",
     "status": "completed"
    },
    "tags": []
   },
   "outputs": [
    {
     "data": {
      "text/html": [
       "<div>\n",
       "<style scoped>\n",
       "    .dataframe tbody tr th:only-of-type {\n",
       "        vertical-align: middle;\n",
       "    }\n",
       "\n",
       "    .dataframe tbody tr th {\n",
       "        vertical-align: top;\n",
       "    }\n",
       "\n",
       "    .dataframe thead th {\n",
       "        text-align: right;\n",
       "    }\n",
       "</style>\n",
       "<table border=\"1\" class=\"dataframe\">\n",
       "  <thead>\n",
       "    <tr style=\"text-align: right;\">\n",
       "      <th></th>\n",
       "      <th>ApplicantIncome</th>\n",
       "      <th>CoapplicantIncome</th>\n",
       "      <th>LoanAmount</th>\n",
       "      <th>Loan_Amount_Term</th>\n",
       "      <th>Credit_History</th>\n",
       "    </tr>\n",
       "  </thead>\n",
       "  <tbody>\n",
       "    <tr>\n",
       "      <th>count</th>\n",
       "      <td>614.000000</td>\n",
       "      <td>614.000000</td>\n",
       "      <td>592.000000</td>\n",
       "      <td>600.00000</td>\n",
       "      <td>564.000000</td>\n",
       "    </tr>\n",
       "    <tr>\n",
       "      <th>mean</th>\n",
       "      <td>5403.459283</td>\n",
       "      <td>1621.245798</td>\n",
       "      <td>146.412162</td>\n",
       "      <td>342.00000</td>\n",
       "      <td>0.842199</td>\n",
       "    </tr>\n",
       "    <tr>\n",
       "      <th>std</th>\n",
       "      <td>6109.041673</td>\n",
       "      <td>2926.248369</td>\n",
       "      <td>85.587325</td>\n",
       "      <td>65.12041</td>\n",
       "      <td>0.364878</td>\n",
       "    </tr>\n",
       "    <tr>\n",
       "      <th>min</th>\n",
       "      <td>150.000000</td>\n",
       "      <td>0.000000</td>\n",
       "      <td>9.000000</td>\n",
       "      <td>12.00000</td>\n",
       "      <td>0.000000</td>\n",
       "    </tr>\n",
       "    <tr>\n",
       "      <th>25%</th>\n",
       "      <td>2877.500000</td>\n",
       "      <td>0.000000</td>\n",
       "      <td>100.000000</td>\n",
       "      <td>360.00000</td>\n",
       "      <td>1.000000</td>\n",
       "    </tr>\n",
       "    <tr>\n",
       "      <th>50%</th>\n",
       "      <td>3812.500000</td>\n",
       "      <td>1188.500000</td>\n",
       "      <td>128.000000</td>\n",
       "      <td>360.00000</td>\n",
       "      <td>1.000000</td>\n",
       "    </tr>\n",
       "    <tr>\n",
       "      <th>75%</th>\n",
       "      <td>5795.000000</td>\n",
       "      <td>2297.250000</td>\n",
       "      <td>168.000000</td>\n",
       "      <td>360.00000</td>\n",
       "      <td>1.000000</td>\n",
       "    </tr>\n",
       "    <tr>\n",
       "      <th>max</th>\n",
       "      <td>81000.000000</td>\n",
       "      <td>41667.000000</td>\n",
       "      <td>700.000000</td>\n",
       "      <td>480.00000</td>\n",
       "      <td>1.000000</td>\n",
       "    </tr>\n",
       "  </tbody>\n",
       "</table>\n",
       "</div>"
      ],
      "text/plain": [
       "       ApplicantIncome  CoapplicantIncome  LoanAmount  Loan_Amount_Term  \\\n",
       "count       614.000000         614.000000  592.000000         600.00000   \n",
       "mean       5403.459283        1621.245798  146.412162         342.00000   \n",
       "std        6109.041673        2926.248369   85.587325          65.12041   \n",
       "min         150.000000           0.000000    9.000000          12.00000   \n",
       "25%        2877.500000           0.000000  100.000000         360.00000   \n",
       "50%        3812.500000        1188.500000  128.000000         360.00000   \n",
       "75%        5795.000000        2297.250000  168.000000         360.00000   \n",
       "max       81000.000000       41667.000000  700.000000         480.00000   \n",
       "\n",
       "       Credit_History  \n",
       "count      564.000000  \n",
       "mean         0.842199  \n",
       "std          0.364878  \n",
       "min          0.000000  \n",
       "25%          1.000000  \n",
       "50%          1.000000  \n",
       "75%          1.000000  \n",
       "max          1.000000  "
      ]
     },
     "execution_count": 11,
     "metadata": {},
     "output_type": "execute_result"
    }
   ],
   "source": [
    "data.describe()"
   ]
  },
  {
   "cell_type": "markdown",
   "id": "1514e99f",
   "metadata": {
    "id": "o36ZFuUdubC5",
    "papermill": {
     "duration": 0.017053,
     "end_time": "2024-03-01T04:03:12.857529",
     "exception": false,
     "start_time": "2024-03-01T04:03:12.840476",
     "status": "completed"
    },
    "tags": []
   },
   "source": [
    "We calculate statistical data."
   ]
  },
  {
   "cell_type": "code",
   "execution_count": 12,
   "id": "044cedd9",
   "metadata": {
    "execution": {
     "iopub.execute_input": "2024-03-01T04:03:12.894480Z",
     "iopub.status.busy": "2024-03-01T04:03:12.893720Z",
     "iopub.status.idle": "2024-03-01T04:03:12.907319Z",
     "shell.execute_reply": "2024-03-01T04:03:12.906315Z"
    },
    "id": "RPkzzlD3udW1",
    "outputId": "1e930a42-e98c-4eee-a28a-bf5e0778446a",
    "papermill": {
     "duration": 0.034523,
     "end_time": "2024-03-01T04:03:12.909536",
     "exception": false,
     "start_time": "2024-03-01T04:03:12.875013",
     "status": "completed"
    },
    "tags": []
   },
   "outputs": [
    {
     "data": {
      "text/plain": [
       "Loan_ID              614\n",
       "Gender                 2\n",
       "Married                2\n",
       "Dependents             4\n",
       "Education              2\n",
       "Self_Employed          2\n",
       "ApplicantIncome      505\n",
       "CoapplicantIncome    287\n",
       "LoanAmount           203\n",
       "Loan_Amount_Term      10\n",
       "Credit_History         2\n",
       "Property_Area          3\n",
       "Loan_Status            2\n",
       "dtype: int64"
      ]
     },
     "execution_count": 12,
     "metadata": {},
     "output_type": "execute_result"
    }
   ],
   "source": [
    "data.nunique()"
   ]
  },
  {
   "cell_type": "code",
   "execution_count": 13,
   "id": "2d75f11f",
   "metadata": {
    "execution": {
     "iopub.execute_input": "2024-03-01T04:03:12.946452Z",
     "iopub.status.busy": "2024-03-01T04:03:12.946103Z",
     "iopub.status.idle": "2024-03-01T04:03:12.951945Z",
     "shell.execute_reply": "2024-03-01T04:03:12.951183Z"
    },
    "id": "5OeG5gJfuio5",
    "outputId": "1650a36c-70d6-4155-fec7-204edfeaab36",
    "papermill": {
     "duration": 0.026585,
     "end_time": "2024-03-01T04:03:12.953759",
     "exception": false,
     "start_time": "2024-03-01T04:03:12.927174",
     "status": "completed"
    },
    "tags": []
   },
   "outputs": [
    {
     "data": {
      "text/plain": [
       "array(['Male', 'Female', nan], dtype=object)"
      ]
     },
     "execution_count": 13,
     "metadata": {},
     "output_type": "execute_result"
    }
   ],
   "source": [
    "data[\"Gender\"].unique()"
   ]
  },
  {
   "cell_type": "markdown",
   "id": "222ac3c7",
   "metadata": {
    "id": "cL0B3gHHuqey",
    "papermill": {
     "duration": 0.017318,
     "end_time": "2024-03-01T04:03:12.989042",
     "exception": false,
     "start_time": "2024-03-01T04:03:12.971724",
     "status": "completed"
    },
    "tags": []
   },
   "source": [
    "The gender column includes male, female, and null"
   ]
  },
  {
   "cell_type": "code",
   "execution_count": 14,
   "id": "2fd4531e",
   "metadata": {
    "execution": {
     "iopub.execute_input": "2024-03-01T04:03:13.026233Z",
     "iopub.status.busy": "2024-03-01T04:03:13.025861Z",
     "iopub.status.idle": "2024-03-01T04:03:13.031624Z",
     "shell.execute_reply": "2024-03-01T04:03:13.030864Z"
    },
    "id": "NWz5_3sUu4mH",
    "outputId": "b0834c70-2bfa-46f9-a2b2-0a419348aee6",
    "papermill": {
     "duration": 0.026573,
     "end_time": "2024-03-01T04:03:13.033417",
     "exception": false,
     "start_time": "2024-03-01T04:03:13.006844",
     "status": "completed"
    },
    "tags": []
   },
   "outputs": [
    {
     "data": {
      "text/plain": [
       "array(['No', 'Yes', nan], dtype=object)"
      ]
     },
     "execution_count": 14,
     "metadata": {},
     "output_type": "execute_result"
    }
   ],
   "source": [
    "data[\"Married\"].unique()"
   ]
  },
  {
   "cell_type": "markdown",
   "id": "eef776d3",
   "metadata": {
    "id": "7dA9h3VQu3yc",
    "papermill": {
     "duration": 0.017577,
     "end_time": "2024-03-01T04:03:13.068952",
     "exception": false,
     "start_time": "2024-03-01T04:03:13.051375",
     "status": "completed"
    },
    "tags": []
   },
   "source": [
    "The Married column includes No, Yes, and null"
   ]
  },
  {
   "cell_type": "code",
   "execution_count": 15,
   "id": "aefe192a",
   "metadata": {
    "execution": {
     "iopub.execute_input": "2024-03-01T04:03:13.106727Z",
     "iopub.status.busy": "2024-03-01T04:03:13.106350Z",
     "iopub.status.idle": "2024-03-01T04:03:13.112948Z",
     "shell.execute_reply": "2024-03-01T04:03:13.111886Z"
    },
    "id": "niPgSzGRunue",
    "outputId": "9ca9218f-abe3-4c55-f794-3fd61a370e15",
    "papermill": {
     "duration": 0.028181,
     "end_time": "2024-03-01T04:03:13.115062",
     "exception": false,
     "start_time": "2024-03-01T04:03:13.086881",
     "status": "completed"
    },
    "tags": []
   },
   "outputs": [
    {
     "data": {
      "text/plain": [
       "array(['0', '1', '2', '3+', nan], dtype=object)"
      ]
     },
     "execution_count": 15,
     "metadata": {},
     "output_type": "execute_result"
    }
   ],
   "source": [
    "data[\"Dependents\"].unique()"
   ]
  },
  {
   "cell_type": "markdown",
   "id": "712657ec",
   "metadata": {
    "id": "5BW2uJO1vD_A",
    "papermill": {
     "duration": 0.018099,
     "end_time": "2024-03-01T04:03:13.151255",
     "exception": false,
     "start_time": "2024-03-01T04:03:13.133156",
     "status": "completed"
    },
    "tags": []
   },
   "source": [
    "The Dependents column includes 1, 2, 3+ and null"
   ]
  },
  {
   "cell_type": "code",
   "execution_count": 16,
   "id": "d50e92e3",
   "metadata": {
    "execution": {
     "iopub.execute_input": "2024-03-01T04:03:13.189235Z",
     "iopub.status.busy": "2024-03-01T04:03:13.188867Z",
     "iopub.status.idle": "2024-03-01T04:03:13.195650Z",
     "shell.execute_reply": "2024-03-01T04:03:13.194589Z"
    },
    "id": "lcbV16scvCL-",
    "outputId": "dcaf7fcf-0928-4e95-c367-7300e432e376",
    "papermill": {
     "duration": 0.028425,
     "end_time": "2024-03-01T04:03:13.197707",
     "exception": false,
     "start_time": "2024-03-01T04:03:13.169282",
     "status": "completed"
    },
    "tags": []
   },
   "outputs": [
    {
     "data": {
      "text/plain": [
       "array(['Graduate', 'Not Graduate'], dtype=object)"
      ]
     },
     "execution_count": 16,
     "metadata": {},
     "output_type": "execute_result"
    }
   ],
   "source": [
    "data[\"Education\"].unique()"
   ]
  },
  {
   "cell_type": "markdown",
   "id": "f4f5c94c",
   "metadata": {
    "id": "aFGbyyeYvIqr",
    "papermill": {
     "duration": 0.01821,
     "end_time": "2024-03-01T04:03:13.234064",
     "exception": false,
     "start_time": "2024-03-01T04:03:13.215854",
     "status": "completed"
    },
    "tags": []
   },
   "source": [
    "The Education column includes Graduate, Not Graduate."
   ]
  },
  {
   "cell_type": "code",
   "execution_count": 17,
   "id": "29988eac",
   "metadata": {
    "execution": {
     "iopub.execute_input": "2024-03-01T04:03:13.273033Z",
     "iopub.status.busy": "2024-03-01T04:03:13.272064Z",
     "iopub.status.idle": "2024-03-01T04:03:13.278587Z",
     "shell.execute_reply": "2024-03-01T04:03:13.277873Z"
    },
    "id": "rFy0usLVvF5m",
    "outputId": "606598fd-51ca-4a3b-e33c-f7dbd49069b5",
    "papermill": {
     "duration": 0.027974,
     "end_time": "2024-03-01T04:03:13.280373",
     "exception": false,
     "start_time": "2024-03-01T04:03:13.252399",
     "status": "completed"
    },
    "tags": []
   },
   "outputs": [
    {
     "data": {
      "text/plain": [
       "array([ 1.,  0., nan])"
      ]
     },
     "execution_count": 17,
     "metadata": {},
     "output_type": "execute_result"
    }
   ],
   "source": [
    "data[\"Credit_History\"].unique()"
   ]
  },
  {
   "cell_type": "markdown",
   "id": "259c4492",
   "metadata": {
    "id": "AmY26TrIvWII",
    "papermill": {
     "duration": 0.018763,
     "end_time": "2024-03-01T04:03:13.317783",
     "exception": false,
     "start_time": "2024-03-01T04:03:13.299020",
     "status": "completed"
    },
    "tags": []
   },
   "source": [
    "The Credit History column includes 1, 0, null."
   ]
  },
  {
   "cell_type": "markdown",
   "id": "e924f383",
   "metadata": {
    "id": "cqflt7ovvZiI",
    "papermill": {
     "duration": 0.018135,
     "end_time": "2024-03-01T04:03:13.354753",
     "exception": false,
     "start_time": "2024-03-01T04:03:13.336618",
     "status": "completed"
    },
    "tags": []
   },
   "source": [
    "#**DATA CLEANING**\n",
    "\n"
   ]
  },
  {
   "cell_type": "code",
   "execution_count": 18,
   "id": "8b2b1626",
   "metadata": {
    "execution": {
     "iopub.execute_input": "2024-03-01T04:03:13.393747Z",
     "iopub.status.busy": "2024-03-01T04:03:13.393064Z",
     "iopub.status.idle": "2024-03-01T04:03:13.417268Z",
     "shell.execute_reply": "2024-03-01T04:03:13.416251Z"
    },
    "id": "33ny4WPxvLD3",
    "outputId": "fbf31e81-8dab-4e18-de39-db0b7bde18ff",
    "papermill": {
     "duration": 0.046594,
     "end_time": "2024-03-01T04:03:13.419826",
     "exception": false,
     "start_time": "2024-03-01T04:03:13.373232",
     "status": "completed"
    },
    "tags": []
   },
   "outputs": [
    {
     "data": {
      "text/html": [
       "<div>\n",
       "<style scoped>\n",
       "    .dataframe tbody tr th:only-of-type {\n",
       "        vertical-align: middle;\n",
       "    }\n",
       "\n",
       "    .dataframe tbody tr th {\n",
       "        vertical-align: top;\n",
       "    }\n",
       "\n",
       "    .dataframe thead th {\n",
       "        text-align: right;\n",
       "    }\n",
       "</style>\n",
       "<table border=\"1\" class=\"dataframe\">\n",
       "  <thead>\n",
       "    <tr style=\"text-align: right;\">\n",
       "      <th></th>\n",
       "      <th>Loan_ID</th>\n",
       "      <th>Gender</th>\n",
       "      <th>Married</th>\n",
       "      <th>Dependents</th>\n",
       "      <th>Education</th>\n",
       "      <th>Self_Employed</th>\n",
       "      <th>ApplicantIncome</th>\n",
       "      <th>CoapplicantIncome</th>\n",
       "      <th>LoanAmount</th>\n",
       "      <th>Loan_Amount_Term</th>\n",
       "      <th>Credit_History</th>\n",
       "      <th>Property_Area</th>\n",
       "      <th>Loan_Status</th>\n",
       "    </tr>\n",
       "  </thead>\n",
       "  <tbody>\n",
       "    <tr>\n",
       "      <th>0</th>\n",
       "      <td>LP001002</td>\n",
       "      <td>Male</td>\n",
       "      <td>No</td>\n",
       "      <td>0</td>\n",
       "      <td>Graduate</td>\n",
       "      <td>No</td>\n",
       "      <td>5849</td>\n",
       "      <td>0.0</td>\n",
       "      <td>NaN</td>\n",
       "      <td>360.0</td>\n",
       "      <td>1.0</td>\n",
       "      <td>Urban</td>\n",
       "      <td>Yes</td>\n",
       "    </tr>\n",
       "    <tr>\n",
       "      <th>1</th>\n",
       "      <td>LP001003</td>\n",
       "      <td>Male</td>\n",
       "      <td>Yes</td>\n",
       "      <td>1</td>\n",
       "      <td>Graduate</td>\n",
       "      <td>No</td>\n",
       "      <td>4583</td>\n",
       "      <td>1508.0</td>\n",
       "      <td>128.0</td>\n",
       "      <td>360.0</td>\n",
       "      <td>1.0</td>\n",
       "      <td>Rural</td>\n",
       "      <td>No</td>\n",
       "    </tr>\n",
       "    <tr>\n",
       "      <th>2</th>\n",
       "      <td>LP001005</td>\n",
       "      <td>Male</td>\n",
       "      <td>Yes</td>\n",
       "      <td>0</td>\n",
       "      <td>Graduate</td>\n",
       "      <td>Yes</td>\n",
       "      <td>3000</td>\n",
       "      <td>0.0</td>\n",
       "      <td>66.0</td>\n",
       "      <td>360.0</td>\n",
       "      <td>1.0</td>\n",
       "      <td>Urban</td>\n",
       "      <td>Yes</td>\n",
       "    </tr>\n",
       "    <tr>\n",
       "      <th>3</th>\n",
       "      <td>LP001006</td>\n",
       "      <td>Male</td>\n",
       "      <td>Yes</td>\n",
       "      <td>0</td>\n",
       "      <td>Not Graduate</td>\n",
       "      <td>No</td>\n",
       "      <td>2583</td>\n",
       "      <td>2358.0</td>\n",
       "      <td>120.0</td>\n",
       "      <td>360.0</td>\n",
       "      <td>1.0</td>\n",
       "      <td>Urban</td>\n",
       "      <td>Yes</td>\n",
       "    </tr>\n",
       "    <tr>\n",
       "      <th>4</th>\n",
       "      <td>LP001008</td>\n",
       "      <td>Male</td>\n",
       "      <td>No</td>\n",
       "      <td>0</td>\n",
       "      <td>Graduate</td>\n",
       "      <td>No</td>\n",
       "      <td>6000</td>\n",
       "      <td>0.0</td>\n",
       "      <td>141.0</td>\n",
       "      <td>360.0</td>\n",
       "      <td>1.0</td>\n",
       "      <td>Urban</td>\n",
       "      <td>Yes</td>\n",
       "    </tr>\n",
       "    <tr>\n",
       "      <th>...</th>\n",
       "      <td>...</td>\n",
       "      <td>...</td>\n",
       "      <td>...</td>\n",
       "      <td>...</td>\n",
       "      <td>...</td>\n",
       "      <td>...</td>\n",
       "      <td>...</td>\n",
       "      <td>...</td>\n",
       "      <td>...</td>\n",
       "      <td>...</td>\n",
       "      <td>...</td>\n",
       "      <td>...</td>\n",
       "      <td>...</td>\n",
       "    </tr>\n",
       "    <tr>\n",
       "      <th>609</th>\n",
       "      <td>LP002978</td>\n",
       "      <td>Female</td>\n",
       "      <td>No</td>\n",
       "      <td>0</td>\n",
       "      <td>Graduate</td>\n",
       "      <td>No</td>\n",
       "      <td>2900</td>\n",
       "      <td>0.0</td>\n",
       "      <td>71.0</td>\n",
       "      <td>360.0</td>\n",
       "      <td>1.0</td>\n",
       "      <td>Rural</td>\n",
       "      <td>Yes</td>\n",
       "    </tr>\n",
       "    <tr>\n",
       "      <th>610</th>\n",
       "      <td>LP002979</td>\n",
       "      <td>Male</td>\n",
       "      <td>Yes</td>\n",
       "      <td>3+</td>\n",
       "      <td>Graduate</td>\n",
       "      <td>No</td>\n",
       "      <td>4106</td>\n",
       "      <td>0.0</td>\n",
       "      <td>40.0</td>\n",
       "      <td>180.0</td>\n",
       "      <td>1.0</td>\n",
       "      <td>Rural</td>\n",
       "      <td>Yes</td>\n",
       "    </tr>\n",
       "    <tr>\n",
       "      <th>611</th>\n",
       "      <td>LP002983</td>\n",
       "      <td>Male</td>\n",
       "      <td>Yes</td>\n",
       "      <td>1</td>\n",
       "      <td>Graduate</td>\n",
       "      <td>No</td>\n",
       "      <td>8072</td>\n",
       "      <td>240.0</td>\n",
       "      <td>253.0</td>\n",
       "      <td>360.0</td>\n",
       "      <td>1.0</td>\n",
       "      <td>Urban</td>\n",
       "      <td>Yes</td>\n",
       "    </tr>\n",
       "    <tr>\n",
       "      <th>612</th>\n",
       "      <td>LP002984</td>\n",
       "      <td>Male</td>\n",
       "      <td>Yes</td>\n",
       "      <td>2</td>\n",
       "      <td>Graduate</td>\n",
       "      <td>No</td>\n",
       "      <td>7583</td>\n",
       "      <td>0.0</td>\n",
       "      <td>187.0</td>\n",
       "      <td>360.0</td>\n",
       "      <td>1.0</td>\n",
       "      <td>Urban</td>\n",
       "      <td>Yes</td>\n",
       "    </tr>\n",
       "    <tr>\n",
       "      <th>613</th>\n",
       "      <td>LP002990</td>\n",
       "      <td>Female</td>\n",
       "      <td>No</td>\n",
       "      <td>0</td>\n",
       "      <td>Graduate</td>\n",
       "      <td>Yes</td>\n",
       "      <td>4583</td>\n",
       "      <td>0.0</td>\n",
       "      <td>133.0</td>\n",
       "      <td>360.0</td>\n",
       "      <td>0.0</td>\n",
       "      <td>Semiurban</td>\n",
       "      <td>No</td>\n",
       "    </tr>\n",
       "  </tbody>\n",
       "</table>\n",
       "<p>614 rows × 13 columns</p>\n",
       "</div>"
      ],
      "text/plain": [
       "      Loan_ID  Gender Married Dependents     Education Self_Employed  \\\n",
       "0    LP001002    Male      No          0      Graduate            No   \n",
       "1    LP001003    Male     Yes          1      Graduate            No   \n",
       "2    LP001005    Male     Yes          0      Graduate           Yes   \n",
       "3    LP001006    Male     Yes          0  Not Graduate            No   \n",
       "4    LP001008    Male      No          0      Graduate            No   \n",
       "..        ...     ...     ...        ...           ...           ...   \n",
       "609  LP002978  Female      No          0      Graduate            No   \n",
       "610  LP002979    Male     Yes         3+      Graduate            No   \n",
       "611  LP002983    Male     Yes          1      Graduate            No   \n",
       "612  LP002984    Male     Yes          2      Graduate            No   \n",
       "613  LP002990  Female      No          0      Graduate           Yes   \n",
       "\n",
       "     ApplicantIncome  CoapplicantIncome  LoanAmount  Loan_Amount_Term  \\\n",
       "0               5849                0.0         NaN             360.0   \n",
       "1               4583             1508.0       128.0             360.0   \n",
       "2               3000                0.0        66.0             360.0   \n",
       "3               2583             2358.0       120.0             360.0   \n",
       "4               6000                0.0       141.0             360.0   \n",
       "..               ...                ...         ...               ...   \n",
       "609             2900                0.0        71.0             360.0   \n",
       "610             4106                0.0        40.0             180.0   \n",
       "611             8072              240.0       253.0             360.0   \n",
       "612             7583                0.0       187.0             360.0   \n",
       "613             4583                0.0       133.0             360.0   \n",
       "\n",
       "     Credit_History Property_Area Loan_Status  \n",
       "0               1.0         Urban         Yes  \n",
       "1               1.0         Rural          No  \n",
       "2               1.0         Urban         Yes  \n",
       "3               1.0         Urban         Yes  \n",
       "4               1.0         Urban         Yes  \n",
       "..              ...           ...         ...  \n",
       "609             1.0         Rural         Yes  \n",
       "610             1.0         Rural         Yes  \n",
       "611             1.0         Urban         Yes  \n",
       "612             1.0         Urban         Yes  \n",
       "613             0.0     Semiurban          No  \n",
       "\n",
       "[614 rows x 13 columns]"
      ]
     },
     "execution_count": 18,
     "metadata": {},
     "output_type": "execute_result"
    }
   ],
   "source": [
    "data[\"Loan_Status\"]=data[\"Loan_Status\"].replace({\"N\":\"No\",\"Y\":\"Yes\"})\n",
    "data"
   ]
  },
  {
   "cell_type": "markdown",
   "id": "a56e25ae",
   "metadata": {
    "id": "NNR3MjTYvgn0",
    "papermill": {
     "duration": 0.018861,
     "end_time": "2024-03-01T04:03:13.457865",
     "exception": false,
     "start_time": "2024-03-01T04:03:13.439004",
     "status": "completed"
    },
    "tags": []
   },
   "source": [
    "To make the Loan Status column more understandable, **we change the \"N\" with \"NO\" and the \"Y\" with \"Yes\".**"
   ]
  },
  {
   "cell_type": "code",
   "execution_count": 19,
   "id": "c996aabc",
   "metadata": {
    "execution": {
     "iopub.execute_input": "2024-03-01T04:03:13.499106Z",
     "iopub.status.busy": "2024-03-01T04:03:13.498729Z",
     "iopub.status.idle": "2024-03-01T04:03:13.521697Z",
     "shell.execute_reply": "2024-03-01T04:03:13.520672Z"
    },
    "id": "XsF3ffGbvdGM",
    "outputId": "6acf0a4a-3a04-4708-fced-98dceca389de",
    "papermill": {
     "duration": 0.045305,
     "end_time": "2024-03-01T04:03:13.523950",
     "exception": false,
     "start_time": "2024-03-01T04:03:13.478645",
     "status": "completed"
    },
    "tags": []
   },
   "outputs": [
    {
     "data": {
      "text/html": [
       "<div>\n",
       "<style scoped>\n",
       "    .dataframe tbody tr th:only-of-type {\n",
       "        vertical-align: middle;\n",
       "    }\n",
       "\n",
       "    .dataframe tbody tr th {\n",
       "        vertical-align: top;\n",
       "    }\n",
       "\n",
       "    .dataframe thead th {\n",
       "        text-align: right;\n",
       "    }\n",
       "</style>\n",
       "<table border=\"1\" class=\"dataframe\">\n",
       "  <thead>\n",
       "    <tr style=\"text-align: right;\">\n",
       "      <th></th>\n",
       "      <th>Loan_ID</th>\n",
       "      <th>Gender</th>\n",
       "      <th>Married</th>\n",
       "      <th>Dependents</th>\n",
       "      <th>Education</th>\n",
       "      <th>Self_Employed</th>\n",
       "      <th>ApplicantIncome</th>\n",
       "      <th>CoapplicantIncome</th>\n",
       "      <th>LoanAmount</th>\n",
       "      <th>Loan_Amount_Term</th>\n",
       "      <th>Credit_History</th>\n",
       "      <th>Property_Area</th>\n",
       "      <th>Loan_Status</th>\n",
       "    </tr>\n",
       "  </thead>\n",
       "  <tbody>\n",
       "    <tr>\n",
       "      <th>0</th>\n",
       "      <td>LP001002</td>\n",
       "      <td>Male</td>\n",
       "      <td>No</td>\n",
       "      <td>0</td>\n",
       "      <td>Graduate</td>\n",
       "      <td>No</td>\n",
       "      <td>5849</td>\n",
       "      <td>0.0</td>\n",
       "      <td>NaN</td>\n",
       "      <td>360.0</td>\n",
       "      <td>1.0</td>\n",
       "      <td>Urban</td>\n",
       "      <td>Yes</td>\n",
       "    </tr>\n",
       "    <tr>\n",
       "      <th>1</th>\n",
       "      <td>LP001003</td>\n",
       "      <td>Male</td>\n",
       "      <td>Yes</td>\n",
       "      <td>1</td>\n",
       "      <td>Graduate</td>\n",
       "      <td>No</td>\n",
       "      <td>4583</td>\n",
       "      <td>1508.0</td>\n",
       "      <td>128.0</td>\n",
       "      <td>360.0</td>\n",
       "      <td>1.0</td>\n",
       "      <td>Rural</td>\n",
       "      <td>No</td>\n",
       "    </tr>\n",
       "    <tr>\n",
       "      <th>2</th>\n",
       "      <td>LP001005</td>\n",
       "      <td>Male</td>\n",
       "      <td>Yes</td>\n",
       "      <td>0</td>\n",
       "      <td>Graduate</td>\n",
       "      <td>Yes</td>\n",
       "      <td>3000</td>\n",
       "      <td>0.0</td>\n",
       "      <td>66.0</td>\n",
       "      <td>360.0</td>\n",
       "      <td>1.0</td>\n",
       "      <td>Urban</td>\n",
       "      <td>Yes</td>\n",
       "    </tr>\n",
       "    <tr>\n",
       "      <th>3</th>\n",
       "      <td>LP001006</td>\n",
       "      <td>Male</td>\n",
       "      <td>Yes</td>\n",
       "      <td>0</td>\n",
       "      <td>Not Graduate</td>\n",
       "      <td>No</td>\n",
       "      <td>2583</td>\n",
       "      <td>2358.0</td>\n",
       "      <td>120.0</td>\n",
       "      <td>360.0</td>\n",
       "      <td>1.0</td>\n",
       "      <td>Urban</td>\n",
       "      <td>Yes</td>\n",
       "    </tr>\n",
       "    <tr>\n",
       "      <th>4</th>\n",
       "      <td>LP001008</td>\n",
       "      <td>Male</td>\n",
       "      <td>No</td>\n",
       "      <td>0</td>\n",
       "      <td>Graduate</td>\n",
       "      <td>No</td>\n",
       "      <td>6000</td>\n",
       "      <td>0.0</td>\n",
       "      <td>141.0</td>\n",
       "      <td>360.0</td>\n",
       "      <td>1.0</td>\n",
       "      <td>Urban</td>\n",
       "      <td>Yes</td>\n",
       "    </tr>\n",
       "    <tr>\n",
       "      <th>...</th>\n",
       "      <td>...</td>\n",
       "      <td>...</td>\n",
       "      <td>...</td>\n",
       "      <td>...</td>\n",
       "      <td>...</td>\n",
       "      <td>...</td>\n",
       "      <td>...</td>\n",
       "      <td>...</td>\n",
       "      <td>...</td>\n",
       "      <td>...</td>\n",
       "      <td>...</td>\n",
       "      <td>...</td>\n",
       "      <td>...</td>\n",
       "    </tr>\n",
       "    <tr>\n",
       "      <th>609</th>\n",
       "      <td>LP002978</td>\n",
       "      <td>Female</td>\n",
       "      <td>No</td>\n",
       "      <td>0</td>\n",
       "      <td>Graduate</td>\n",
       "      <td>No</td>\n",
       "      <td>2900</td>\n",
       "      <td>0.0</td>\n",
       "      <td>71.0</td>\n",
       "      <td>360.0</td>\n",
       "      <td>1.0</td>\n",
       "      <td>Rural</td>\n",
       "      <td>Yes</td>\n",
       "    </tr>\n",
       "    <tr>\n",
       "      <th>610</th>\n",
       "      <td>LP002979</td>\n",
       "      <td>Male</td>\n",
       "      <td>Yes</td>\n",
       "      <td>3</td>\n",
       "      <td>Graduate</td>\n",
       "      <td>No</td>\n",
       "      <td>4106</td>\n",
       "      <td>0.0</td>\n",
       "      <td>40.0</td>\n",
       "      <td>180.0</td>\n",
       "      <td>1.0</td>\n",
       "      <td>Rural</td>\n",
       "      <td>Yes</td>\n",
       "    </tr>\n",
       "    <tr>\n",
       "      <th>611</th>\n",
       "      <td>LP002983</td>\n",
       "      <td>Male</td>\n",
       "      <td>Yes</td>\n",
       "      <td>1</td>\n",
       "      <td>Graduate</td>\n",
       "      <td>No</td>\n",
       "      <td>8072</td>\n",
       "      <td>240.0</td>\n",
       "      <td>253.0</td>\n",
       "      <td>360.0</td>\n",
       "      <td>1.0</td>\n",
       "      <td>Urban</td>\n",
       "      <td>Yes</td>\n",
       "    </tr>\n",
       "    <tr>\n",
       "      <th>612</th>\n",
       "      <td>LP002984</td>\n",
       "      <td>Male</td>\n",
       "      <td>Yes</td>\n",
       "      <td>2</td>\n",
       "      <td>Graduate</td>\n",
       "      <td>No</td>\n",
       "      <td>7583</td>\n",
       "      <td>0.0</td>\n",
       "      <td>187.0</td>\n",
       "      <td>360.0</td>\n",
       "      <td>1.0</td>\n",
       "      <td>Urban</td>\n",
       "      <td>Yes</td>\n",
       "    </tr>\n",
       "    <tr>\n",
       "      <th>613</th>\n",
       "      <td>LP002990</td>\n",
       "      <td>Female</td>\n",
       "      <td>No</td>\n",
       "      <td>0</td>\n",
       "      <td>Graduate</td>\n",
       "      <td>Yes</td>\n",
       "      <td>4583</td>\n",
       "      <td>0.0</td>\n",
       "      <td>133.0</td>\n",
       "      <td>360.0</td>\n",
       "      <td>0.0</td>\n",
       "      <td>Semiurban</td>\n",
       "      <td>No</td>\n",
       "    </tr>\n",
       "  </tbody>\n",
       "</table>\n",
       "<p>614 rows × 13 columns</p>\n",
       "</div>"
      ],
      "text/plain": [
       "      Loan_ID  Gender Married Dependents     Education Self_Employed  \\\n",
       "0    LP001002    Male      No          0      Graduate            No   \n",
       "1    LP001003    Male     Yes          1      Graduate            No   \n",
       "2    LP001005    Male     Yes          0      Graduate           Yes   \n",
       "3    LP001006    Male     Yes          0  Not Graduate            No   \n",
       "4    LP001008    Male      No          0      Graduate            No   \n",
       "..        ...     ...     ...        ...           ...           ...   \n",
       "609  LP002978  Female      No          0      Graduate            No   \n",
       "610  LP002979    Male     Yes          3      Graduate            No   \n",
       "611  LP002983    Male     Yes          1      Graduate            No   \n",
       "612  LP002984    Male     Yes          2      Graduate            No   \n",
       "613  LP002990  Female      No          0      Graduate           Yes   \n",
       "\n",
       "     ApplicantIncome  CoapplicantIncome  LoanAmount  Loan_Amount_Term  \\\n",
       "0               5849                0.0         NaN             360.0   \n",
       "1               4583             1508.0       128.0             360.0   \n",
       "2               3000                0.0        66.0             360.0   \n",
       "3               2583             2358.0       120.0             360.0   \n",
       "4               6000                0.0       141.0             360.0   \n",
       "..               ...                ...         ...               ...   \n",
       "609             2900                0.0        71.0             360.0   \n",
       "610             4106                0.0        40.0             180.0   \n",
       "611             8072              240.0       253.0             360.0   \n",
       "612             7583                0.0       187.0             360.0   \n",
       "613             4583                0.0       133.0             360.0   \n",
       "\n",
       "     Credit_History Property_Area Loan_Status  \n",
       "0               1.0         Urban         Yes  \n",
       "1               1.0         Rural          No  \n",
       "2               1.0         Urban         Yes  \n",
       "3               1.0         Urban         Yes  \n",
       "4               1.0         Urban         Yes  \n",
       "..              ...           ...         ...  \n",
       "609             1.0         Rural         Yes  \n",
       "610             1.0         Rural         Yes  \n",
       "611             1.0         Urban         Yes  \n",
       "612             1.0         Urban         Yes  \n",
       "613             0.0     Semiurban          No  \n",
       "\n",
       "[614 rows x 13 columns]"
      ]
     },
     "execution_count": 19,
     "metadata": {},
     "output_type": "execute_result"
    }
   ],
   "source": [
    "data[\"Dependents\"] = data[\"Dependents\"].replace({\"3+\": 3})\n",
    "data"
   ]
  },
  {
   "cell_type": "markdown",
   "id": "fc217718",
   "metadata": {
    "id": "GaH93l_Mvl-6",
    "papermill": {
     "duration": 0.019362,
     "end_time": "2024-03-01T04:03:13.562940",
     "exception": false,
     "start_time": "2024-03-01T04:03:13.543578",
     "status": "completed"
    },
    "tags": []
   },
   "source": [
    "we change the \"3+\" with \"3\"."
   ]
  },
  {
   "cell_type": "code",
   "execution_count": 20,
   "id": "b38cdde9",
   "metadata": {
    "execution": {
     "iopub.execute_input": "2024-03-01T04:03:13.603537Z",
     "iopub.status.busy": "2024-03-01T04:03:13.603146Z",
     "iopub.status.idle": "2024-03-01T04:03:13.615477Z",
     "shell.execute_reply": "2024-03-01T04:03:13.614416Z"
    },
    "id": "fHzJ8KtGvjyJ",
    "papermill": {
     "duration": 0.035347,
     "end_time": "2024-03-01T04:03:13.617792",
     "exception": false,
     "start_time": "2024-03-01T04:03:13.582445",
     "status": "completed"
    },
    "tags": []
   },
   "outputs": [],
   "source": [
    "data[\"Gender\"].fillna(data[\"Gender\"].mode()[0],inplace=True)\n",
    "data[\"Married\"].fillna(data[\"Married\"].mode()[0],inplace=True)\n",
    "data[\"Dependents\"].fillna(data[\"Dependents\"].mode()[0],inplace=True)\n",
    "data[\"Self_Employed\"].fillna(data[\"Self_Employed\"].mode()[0],inplace=True)\n",
    "data[\"LoanAmount\"].fillna(data[\"LoanAmount\"].mean(),inplace=True)\n",
    "data[\"Loan_Amount_Term\"].fillna(data[\"Loan_Amount_Term\"].mean(),inplace=True)\n",
    "data[\"Credit_History\"].fillna(data[\"Credit_History\"].mean(),inplace=True)"
   ]
  },
  {
   "cell_type": "markdown",
   "id": "88c218e6",
   "metadata": {
    "id": "E9ldsA2HvqYi",
    "papermill": {
     "duration": 0.019843,
     "end_time": "2024-03-01T04:03:13.657912",
     "exception": false,
     "start_time": "2024-03-01T04:03:13.638069",
     "status": "completed"
    },
    "tags": []
   },
   "source": [
    "**Filling Null** **value** using fillna function."
   ]
  },
  {
   "cell_type": "code",
   "execution_count": 21,
   "id": "37b8dd94",
   "metadata": {
    "execution": {
     "iopub.execute_input": "2024-03-01T04:03:13.699321Z",
     "iopub.status.busy": "2024-03-01T04:03:13.698471Z",
     "iopub.status.idle": "2024-03-01T04:03:13.707265Z",
     "shell.execute_reply": "2024-03-01T04:03:13.706111Z"
    },
    "id": "nYFB8W-TvoMe",
    "outputId": "e373bd46-b2a2-497e-d04e-807061658926",
    "papermill": {
     "duration": 0.031765,
     "end_time": "2024-03-01T04:03:13.709215",
     "exception": false,
     "start_time": "2024-03-01T04:03:13.677450",
     "status": "completed"
    },
    "tags": []
   },
   "outputs": [
    {
     "data": {
      "text/plain": [
       "Loan_ID              0\n",
       "Gender               0\n",
       "Married              0\n",
       "Dependents           0\n",
       "Education            0\n",
       "Self_Employed        0\n",
       "ApplicantIncome      0\n",
       "CoapplicantIncome    0\n",
       "LoanAmount           0\n",
       "Loan_Amount_Term     0\n",
       "Credit_History       0\n",
       "Property_Area        0\n",
       "Loan_Status          0\n",
       "dtype: int64"
      ]
     },
     "execution_count": 21,
     "metadata": {},
     "output_type": "execute_result"
    }
   ],
   "source": [
    "data.isnull().sum()"
   ]
  },
  {
   "cell_type": "markdown",
   "id": "7b13fd0e",
   "metadata": {
    "id": "0EDDVZPNvvBP",
    "papermill": {
     "duration": 0.019628,
     "end_time": "2024-03-01T04:03:13.749788",
     "exception": false,
     "start_time": "2024-03-01T04:03:13.730160",
     "status": "completed"
    },
    "tags": []
   },
   "source": [
    "After filling the null value, there are no more null values in the data set."
   ]
  },
  {
   "cell_type": "markdown",
   "id": "69b61c0e",
   "metadata": {
    "id": "cVxUoSumvxhe",
    "papermill": {
     "duration": 0.019318,
     "end_time": "2024-03-01T04:03:13.788571",
     "exception": false,
     "start_time": "2024-03-01T04:03:13.769253",
     "status": "completed"
    },
    "tags": []
   },
   "source": [
    "# **Visualization**"
   ]
  },
  {
   "cell_type": "code",
   "execution_count": 22,
   "id": "c61647fc",
   "metadata": {
    "execution": {
     "iopub.execute_input": "2024-03-01T04:03:13.829921Z",
     "iopub.status.busy": "2024-03-01T04:03:13.829267Z",
     "iopub.status.idle": "2024-03-01T04:03:13.837610Z",
     "shell.execute_reply": "2024-03-01T04:03:13.836890Z"
    },
    "id": "8JEhCiz8vtP7",
    "outputId": "4740bd65-5fe7-49c5-cc02-f8b50f236623",
    "papermill": {
     "duration": 0.03147,
     "end_time": "2024-03-01T04:03:13.839861",
     "exception": false,
     "start_time": "2024-03-01T04:03:13.808391",
     "status": "completed"
    },
    "tags": []
   },
   "outputs": [
    {
     "data": {
      "text/plain": [
       "Loan_Status\n",
       "Yes    422\n",
       "No     192\n",
       "Name: count, dtype: int64"
      ]
     },
     "execution_count": 22,
     "metadata": {},
     "output_type": "execute_result"
    }
   ],
   "source": [
    "data_count=data[\"Loan_Status\"].value_counts()\n",
    "size = data[\"Loan_Status\"].value_counts()\n",
    "data_count\n",
    "size"
   ]
  },
  {
   "cell_type": "markdown",
   "id": "092abc55",
   "metadata": {
    "id": "8MUQTZKPv4Hh",
    "papermill": {
     "duration": 0.020297,
     "end_time": "2024-03-01T04:03:13.880873",
     "exception": false,
     "start_time": "2024-03-01T04:03:13.860576",
     "status": "completed"
    },
    "tags": []
   },
   "source": [
    "**1.**Counting the Yes or No.\n",
    "\n",
    "**2.**Size define"
   ]
  },
  {
   "cell_type": "code",
   "execution_count": 23,
   "id": "22b4201f",
   "metadata": {
    "execution": {
     "iopub.execute_input": "2024-03-01T04:03:13.923422Z",
     "iopub.status.busy": "2024-03-01T04:03:13.923030Z",
     "iopub.status.idle": "2024-03-01T04:03:14.149883Z",
     "shell.execute_reply": "2024-03-01T04:03:14.148671Z"
    },
    "id": "TFG72fRLv1TY",
    "outputId": "f9064e3b-49a4-4aef-9300-428242dceba8",
    "papermill": {
     "duration": 0.251654,
     "end_time": "2024-03-01T04:03:14.153284",
     "exception": false,
     "start_time": "2024-03-01T04:03:13.901630",
     "status": "completed"
    },
    "tags": []
   },
   "outputs": [
    {
     "data": {
      "text/plain": [
       "([<matplotlib.patches.Wedge at 0x7c8ad6dbca30>,\n",
       "  <matplotlib.patches.Wedge at 0x7c8ad7163fd0>],\n",
       " [Text(-0.6105420895241798, 0.9150072988339757, ''),\n",
       "  Text(0.6105420038550106, -0.9150073559970479, '')],\n",
       " [Text(-0.33302295792227987, 0.4990948902730776, '68.7%'),\n",
       "  Text(0.3330229111936421, -0.49909492145293516, '31.3%')])"
      ]
     },
     "execution_count": 23,
     "metadata": {},
     "output_type": "execute_result"
    },
    {
     "data": {
      "image/png": "[encoded data removed]",
      "text/plain": [
       "<Figure size 800x800 with 1 Axes>"
      ]
     },
     "metadata": {},
     "output_type": "display_data"
    }
   ],
   "source": [
    "plt.figure(figsize=(8, 8))\n",
    "plt.pie(data_count, labels=[\"Loan Approved\", \"Loan Not Approved\"])\n",
    "plt.title(\"Loan Approval Status\")\n",
    "plt.pie(size, autopct=\"%.1f%%\")"
   ]
  },
  {
   "cell_type": "markdown",
   "id": "51e85ac4",
   "metadata": {
    "id": "-6ngWoI7z8zA",
    "papermill": {
     "duration": 0.02013,
     "end_time": "2024-03-01T04:03:14.202349",
     "exception": false,
     "start_time": "2024-03-01T04:03:14.182219",
     "status": "completed"
    },
    "tags": []
   },
   "source": [
    " 1.we can see that our target vairable distribution is highly imblanced.\n",
    "\n",
    "2.Majority of the customers is geting loan approved (Yes) 68.7%.\n",
    "\n",
    "3.Only 31.3% has (Not) loan not approved."
   ]
  },
  {
   "cell_type": "code",
   "execution_count": 24,
   "id": "80c128e7",
   "metadata": {
    "execution": {
     "iopub.execute_input": "2024-03-01T04:03:14.246265Z",
     "iopub.status.busy": "2024-03-01T04:03:14.245467Z",
     "iopub.status.idle": "2024-03-01T04:03:14.489588Z",
     "shell.execute_reply": "2024-03-01T04:03:14.488457Z"
    },
    "id": "oNUet63kv9EB",
    "outputId": "a805e1d5-071c-4d23-87f2-b168219b8866",
    "papermill": {
     "duration": 0.268318,
     "end_time": "2024-03-01T04:03:14.491842",
     "exception": false,
     "start_time": "2024-03-01T04:03:14.223524",
     "status": "completed"
    },
    "tags": []
   },
   "outputs": [
    {
     "data": {
      "text/plain": [
       "<Axes: xlabel='Married', ylabel='count'>"
      ]
     },
     "execution_count": 24,
     "metadata": {},
     "output_type": "execute_result"
    },
    {
     "data": {
      "image/png": "[encoded data removed]",
      "text/plain": [
       "<Figure size 640x480 with 1 Axes>"
      ]
     },
     "metadata": {},
     "output_type": "display_data"
    }
   ],
   "source": [
    "sns.countplot(data=data, x=\"Married\",hue=\"Loan_Status\")"
   ]
  },
  {
   "cell_type": "markdown",
   "id": "cf5392cc",
   "metadata": {
    "id": "tTmSOkqE0gxU",
    "papermill": {
     "duration": 0.022617,
     "end_time": "2024-03-01T04:03:14.536376",
     "exception": false,
     "start_time": "2024-03-01T04:03:14.513759",
     "status": "completed"
    },
    "tags": []
   },
   "source": [
    "Those who are married have higher chances of getting a loan approved."
   ]
  },
  {
   "cell_type": "code",
   "execution_count": 25,
   "id": "8c3f45d4",
   "metadata": {
    "execution": {
     "iopub.execute_input": "2024-03-01T04:03:14.580467Z",
     "iopub.status.busy": "2024-03-01T04:03:14.579793Z",
     "iopub.status.idle": "2024-03-01T04:03:14.617500Z",
     "shell.execute_reply": "2024-03-01T04:03:14.616315Z"
    },
    "id": "WrXDIUtiv_wE",
    "outputId": "98610676-488a-44ae-a71f-ff43febb7724",
    "papermill": {
     "duration": 0.062231,
     "end_time": "2024-03-01T04:03:14.619846",
     "exception": false,
     "start_time": "2024-03-01T04:03:14.557615",
     "status": "completed"
    },
    "tags": []
   },
   "outputs": [
    {
     "data": {
      "text/html": [
       "<div>\n",
       "<style scoped>\n",
       "    .dataframe tbody tr th:only-of-type {\n",
       "        vertical-align: middle;\n",
       "    }\n",
       "\n",
       "    .dataframe tbody tr th {\n",
       "        vertical-align: top;\n",
       "    }\n",
       "\n",
       "    .dataframe thead th {\n",
       "        text-align: right;\n",
       "    }\n",
       "</style>\n",
       "<table border=\"1\" class=\"dataframe\">\n",
       "  <thead>\n",
       "    <tr style=\"text-align: right;\">\n",
       "      <th>Loan_Status</th>\n",
       "      <th>No</th>\n",
       "      <th>Yes</th>\n",
       "      <th>All</th>\n",
       "    </tr>\n",
       "    <tr>\n",
       "      <th>Married</th>\n",
       "      <th></th>\n",
       "      <th></th>\n",
       "      <th></th>\n",
       "    </tr>\n",
       "  </thead>\n",
       "  <tbody>\n",
       "    <tr>\n",
       "      <th>No</th>\n",
       "      <td>79</td>\n",
       "      <td>134</td>\n",
       "      <td>213</td>\n",
       "    </tr>\n",
       "    <tr>\n",
       "      <th>Yes</th>\n",
       "      <td>113</td>\n",
       "      <td>288</td>\n",
       "      <td>401</td>\n",
       "    </tr>\n",
       "    <tr>\n",
       "      <th>All</th>\n",
       "      <td>192</td>\n",
       "      <td>422</td>\n",
       "      <td>614</td>\n",
       "    </tr>\n",
       "  </tbody>\n",
       "</table>\n",
       "</div>"
      ],
      "text/plain": [
       "Loan_Status   No  Yes  All\n",
       "Married                   \n",
       "No            79  134  213\n",
       "Yes          113  288  401\n",
       "All          192  422  614"
      ]
     },
     "execution_count": 25,
     "metadata": {},
     "output_type": "execute_result"
    }
   ],
   "source": [
    "pd.crosstab(data[\"Married\"],data[\"Loan_Status\"],margins=True)"
   ]
  },
  {
   "cell_type": "code",
   "execution_count": 26,
   "id": "1f7d7c81",
   "metadata": {
    "execution": {
     "iopub.execute_input": "2024-03-01T04:03:14.664741Z",
     "iopub.status.busy": "2024-03-01T04:03:14.664321Z",
     "iopub.status.idle": "2024-03-01T04:03:14.914168Z",
     "shell.execute_reply": "2024-03-01T04:03:14.913060Z"
    },
    "id": "b-uFp5SFwByz",
    "outputId": "8b447290-03cd-4d0c-f60a-5764fd24e678",
    "papermill": {
     "duration": 0.275295,
     "end_time": "2024-03-01T04:03:14.916428",
     "exception": false,
     "start_time": "2024-03-01T04:03:14.641133",
     "status": "completed"
    },
    "tags": []
   },
   "outputs": [
    {
     "data": {
      "text/plain": [
       "<Axes: xlabel='Education', ylabel='count'>"
      ]
     },
     "execution_count": 26,
     "metadata": {},
     "output_type": "execute_result"
    },
    {
     "data": {
      "image/png": "[encoded data removed]",
      "text/plain": [
       "<Figure size 640x480 with 1 Axes>"
      ]
     },
     "metadata": {},
     "output_type": "display_data"
    }
   ],
   "source": [
    "sns.countplot(data=data, x=\"Education\",hue=\"Loan_Status\")"
   ]
  },
  {
   "cell_type": "markdown",
   "id": "0e3d6083",
   "metadata": {
    "id": "5tg7R_Dz0pNr",
    "papermill": {
     "duration": 0.02221,
     "end_time": "2024-03-01T04:03:14.961290",
     "exception": false,
     "start_time": "2024-03-01T04:03:14.939080",
     "status": "completed"
    },
    "tags": []
   },
   "source": [
    "Those that are educated are better able to get their loans approved"
   ]
  },
  {
   "cell_type": "code",
   "execution_count": 27,
   "id": "8ae15975",
   "metadata": {
    "execution": {
     "iopub.execute_input": "2024-03-01T04:03:15.006440Z",
     "iopub.status.busy": "2024-03-01T04:03:15.006016Z",
     "iopub.status.idle": "2024-03-01T04:03:15.036940Z",
     "shell.execute_reply": "2024-03-01T04:03:15.035623Z"
    },
    "id": "QK6haGxEwDsC",
    "outputId": "78b4c362-7868-4718-a6f2-3750fb334dc1",
    "papermill": {
     "duration": 0.056113,
     "end_time": "2024-03-01T04:03:15.039005",
     "exception": false,
     "start_time": "2024-03-01T04:03:14.982892",
     "status": "completed"
    },
    "tags": []
   },
   "outputs": [
    {
     "data": {
      "text/html": [
       "<div>\n",
       "<style scoped>\n",
       "    .dataframe tbody tr th:only-of-type {\n",
       "        vertical-align: middle;\n",
       "    }\n",
       "\n",
       "    .dataframe tbody tr th {\n",
       "        vertical-align: top;\n",
       "    }\n",
       "\n",
       "    .dataframe thead th {\n",
       "        text-align: right;\n",
       "    }\n",
       "</style>\n",
       "<table border=\"1\" class=\"dataframe\">\n",
       "  <thead>\n",
       "    <tr style=\"text-align: right;\">\n",
       "      <th>Loan_Status</th>\n",
       "      <th>No</th>\n",
       "      <th>Yes</th>\n",
       "      <th>All</th>\n",
       "    </tr>\n",
       "    <tr>\n",
       "      <th>Education</th>\n",
       "      <th></th>\n",
       "      <th></th>\n",
       "      <th></th>\n",
       "    </tr>\n",
       "  </thead>\n",
       "  <tbody>\n",
       "    <tr>\n",
       "      <th>Graduate</th>\n",
       "      <td>140</td>\n",
       "      <td>340</td>\n",
       "      <td>480</td>\n",
       "    </tr>\n",
       "    <tr>\n",
       "      <th>Not Graduate</th>\n",
       "      <td>52</td>\n",
       "      <td>82</td>\n",
       "      <td>134</td>\n",
       "    </tr>\n",
       "    <tr>\n",
       "      <th>All</th>\n",
       "      <td>192</td>\n",
       "      <td>422</td>\n",
       "      <td>614</td>\n",
       "    </tr>\n",
       "  </tbody>\n",
       "</table>\n",
       "</div>"
      ],
      "text/plain": [
       "Loan_Status    No  Yes  All\n",
       "Education                  \n",
       "Graduate      140  340  480\n",
       "Not Graduate   52   82  134\n",
       "All           192  422  614"
      ]
     },
     "execution_count": 27,
     "metadata": {},
     "output_type": "execute_result"
    }
   ],
   "source": [
    "pd.crosstab(data[\"Education\"],data[\"Loan_Status\"],margins=True)"
   ]
  },
  {
   "cell_type": "code",
   "execution_count": 28,
   "id": "b00b6f45",
   "metadata": {
    "execution": {
     "iopub.execute_input": "2024-03-01T04:03:15.086743Z",
     "iopub.status.busy": "2024-03-01T04:03:15.086347Z",
     "iopub.status.idle": "2024-03-01T04:03:15.347456Z",
     "shell.execute_reply": "2024-03-01T04:03:15.346398Z"
    },
    "id": "x3nzMu34wJWI",
    "outputId": "b8aea201-4a56-44b2-9e3a-46e8cef541f7",
    "papermill": {
     "duration": 0.288407,
     "end_time": "2024-03-01T04:03:15.349629",
     "exception": false,
     "start_time": "2024-03-01T04:03:15.061222",
     "status": "completed"
    },
    "tags": []
   },
   "outputs": [
    {
     "data": {
      "text/plain": [
       "<Axes: xlabel='Property_Area', ylabel='count'>"
      ]
     },
     "execution_count": 28,
     "metadata": {},
     "output_type": "execute_result"
    },
    {
     "data": {
      "image/png": "[encoded data removed]",
      "text/plain": [
       "<Figure size 640x480 with 1 Axes>"
      ]
     },
     "metadata": {},
     "output_type": "display_data"
    }
   ],
   "source": [
    "sns.countplot(data=data, x=\"Property_Area\",hue=\"Loan_Status\")"
   ]
  },
  {
   "cell_type": "markdown",
   "id": "5897575e",
   "metadata": {
    "id": "jXrBxDvL0yK6",
    "papermill": {
     "duration": 0.021902,
     "end_time": "2024-03-01T04:03:15.394164",
     "exception": false,
     "start_time": "2024-03-01T04:03:15.372262",
     "status": "completed"
    },
    "tags": []
   },
   "source": [
    "People in the semiurban area are applying for loans in comparison to urban and rural areas."
   ]
  },
  {
   "cell_type": "code",
   "execution_count": 29,
   "id": "fb04f070",
   "metadata": {
    "execution": {
     "iopub.execute_input": "2024-03-01T04:03:15.442920Z",
     "iopub.status.busy": "2024-03-01T04:03:15.442050Z",
     "iopub.status.idle": "2024-03-01T04:03:15.478066Z",
     "shell.execute_reply": "2024-03-01T04:03:15.477162Z"
    },
    "id": "DSriCkKswLFv",
    "outputId": "badeed2a-a20e-4e8b-fb93-dfbdffe60d78",
    "papermill": {
     "duration": 0.064244,
     "end_time": "2024-03-01T04:03:15.480656",
     "exception": false,
     "start_time": "2024-03-01T04:03:15.416412",
     "status": "completed"
    },
    "tags": []
   },
   "outputs": [
    {
     "data": {
      "text/html": [
       "<div>\n",
       "<style scoped>\n",
       "    .dataframe tbody tr th:only-of-type {\n",
       "        vertical-align: middle;\n",
       "    }\n",
       "\n",
       "    .dataframe tbody tr th {\n",
       "        vertical-align: top;\n",
       "    }\n",
       "\n",
       "    .dataframe thead th {\n",
       "        text-align: right;\n",
       "    }\n",
       "</style>\n",
       "<table border=\"1\" class=\"dataframe\">\n",
       "  <thead>\n",
       "    <tr style=\"text-align: right;\">\n",
       "      <th>Loan_Status</th>\n",
       "      <th>No</th>\n",
       "      <th>Yes</th>\n",
       "      <th>All</th>\n",
       "    </tr>\n",
       "    <tr>\n",
       "      <th>Property_Area</th>\n",
       "      <th></th>\n",
       "      <th></th>\n",
       "      <th></th>\n",
       "    </tr>\n",
       "  </thead>\n",
       "  <tbody>\n",
       "    <tr>\n",
       "      <th>Rural</th>\n",
       "      <td>69</td>\n",
       "      <td>110</td>\n",
       "      <td>179</td>\n",
       "    </tr>\n",
       "    <tr>\n",
       "      <th>Semiurban</th>\n",
       "      <td>54</td>\n",
       "      <td>179</td>\n",
       "      <td>233</td>\n",
       "    </tr>\n",
       "    <tr>\n",
       "      <th>Urban</th>\n",
       "      <td>69</td>\n",
       "      <td>133</td>\n",
       "      <td>202</td>\n",
       "    </tr>\n",
       "    <tr>\n",
       "      <th>All</th>\n",
       "      <td>192</td>\n",
       "      <td>422</td>\n",
       "      <td>614</td>\n",
       "    </tr>\n",
       "  </tbody>\n",
       "</table>\n",
       "</div>"
      ],
      "text/plain": [
       "Loan_Status     No  Yes  All\n",
       "Property_Area               \n",
       "Rural           69  110  179\n",
       "Semiurban       54  179  233\n",
       "Urban           69  133  202\n",
       "All            192  422  614"
      ]
     },
     "execution_count": 29,
     "metadata": {},
     "output_type": "execute_result"
    }
   ],
   "source": [
    "pd.crosstab(data[\"Property_Area\"],data[\"Loan_Status\"],margins=True)"
   ]
  },
  {
   "cell_type": "code",
   "execution_count": 30,
   "id": "d91f273a",
   "metadata": {
    "execution": {
     "iopub.execute_input": "2024-03-01T04:03:15.531988Z",
     "iopub.status.busy": "2024-03-01T04:03:15.531534Z",
     "iopub.status.idle": "2024-03-01T04:03:15.809565Z",
     "shell.execute_reply": "2024-03-01T04:03:15.808744Z"
    },
    "id": "q-Ds5BxayH5x",
    "outputId": "4ea1d6dd-c7c7-47f7-dd42-369885c73c45",
    "papermill": {
     "duration": 0.304146,
     "end_time": "2024-03-01T04:03:15.811576",
     "exception": false,
     "start_time": "2024-03-01T04:03:15.507430",
     "status": "completed"
    },
    "tags": []
   },
   "outputs": [
    {
     "data": {
      "text/plain": [
       "<Axes: xlabel='Property_Area', ylabel='count'>"
      ]
     },
     "execution_count": 30,
     "metadata": {},
     "output_type": "execute_result"
    },
    {
     "data": {
      "image/png": "[encoded data removed]",
      "text/plain": [
       "<Figure size 640x480 with 1 Axes>"
      ]
     },
     "metadata": {},
     "output_type": "display_data"
    }
   ],
   "source": [
    "sns.countplot(data=data, x=\"Property_Area\",hue=\"Married\")"
   ]
  },
  {
   "cell_type": "markdown",
   "id": "733e1ee9",
   "metadata": {
    "id": "gfYBgH-c07JH",
    "papermill": {
     "duration": 0.023426,
     "end_time": "2024-03-01T04:03:15.857958",
     "exception": false,
     "start_time": "2024-03-01T04:03:15.834532",
     "status": "completed"
    },
    "tags": []
   },
   "source": []
  },
  {
   "cell_type": "code",
   "execution_count": 31,
   "id": "d227a170",
   "metadata": {
    "execution": {
     "iopub.execute_input": "2024-03-01T04:03:15.907158Z",
     "iopub.status.busy": "2024-03-01T04:03:15.906328Z",
     "iopub.status.idle": "2024-03-01T04:03:15.946943Z",
     "shell.execute_reply": "2024-03-01T04:03:15.945672Z"
    },
    "id": "FjOMCd-ay2Th",
    "outputId": "d1be811b-bca0-4305-de24-bdfd478e2bff",
    "papermill": {
     "duration": 0.067803,
     "end_time": "2024-03-01T04:03:15.949352",
     "exception": false,
     "start_time": "2024-03-01T04:03:15.881549",
     "status": "completed"
    },
    "tags": []
   },
   "outputs": [
    {
     "data": {
      "text/html": [
       "<div>\n",
       "<style scoped>\n",
       "    .dataframe tbody tr th:only-of-type {\n",
       "        vertical-align: middle;\n",
       "    }\n",
       "\n",
       "    .dataframe tbody tr th {\n",
       "        vertical-align: top;\n",
       "    }\n",
       "\n",
       "    .dataframe thead th {\n",
       "        text-align: right;\n",
       "    }\n",
       "</style>\n",
       "<table border=\"1\" class=\"dataframe\">\n",
       "  <thead>\n",
       "    <tr style=\"text-align: right;\">\n",
       "      <th>Married</th>\n",
       "      <th>No</th>\n",
       "      <th>Yes</th>\n",
       "      <th>All</th>\n",
       "    </tr>\n",
       "    <tr>\n",
       "      <th>Property_Area</th>\n",
       "      <th></th>\n",
       "      <th></th>\n",
       "      <th></th>\n",
       "    </tr>\n",
       "  </thead>\n",
       "  <tbody>\n",
       "    <tr>\n",
       "      <th>Rural</th>\n",
       "      <td>63</td>\n",
       "      <td>116</td>\n",
       "      <td>179</td>\n",
       "    </tr>\n",
       "    <tr>\n",
       "      <th>Semiurban</th>\n",
       "      <td>80</td>\n",
       "      <td>153</td>\n",
       "      <td>233</td>\n",
       "    </tr>\n",
       "    <tr>\n",
       "      <th>Urban</th>\n",
       "      <td>70</td>\n",
       "      <td>132</td>\n",
       "      <td>202</td>\n",
       "    </tr>\n",
       "    <tr>\n",
       "      <th>All</th>\n",
       "      <td>213</td>\n",
       "      <td>401</td>\n",
       "      <td>614</td>\n",
       "    </tr>\n",
       "  </tbody>\n",
       "</table>\n",
       "</div>"
      ],
      "text/plain": [
       "Married         No  Yes  All\n",
       "Property_Area               \n",
       "Rural           63  116  179\n",
       "Semiurban       80  153  233\n",
       "Urban           70  132  202\n",
       "All            213  401  614"
      ]
     },
     "execution_count": 31,
     "metadata": {},
     "output_type": "execute_result"
    }
   ],
   "source": [
    "pd.crosstab(data[\"Property_Area\"],data[\"Married\"],margins=True)"
   ]
  },
  {
   "cell_type": "code",
   "execution_count": 32,
   "id": "d7152a2e",
   "metadata": {
    "execution": {
     "iopub.execute_input": "2024-03-01T04:03:16.001281Z",
     "iopub.status.busy": "2024-03-01T04:03:16.000910Z",
     "iopub.status.idle": "2024-03-01T04:03:16.220461Z",
     "shell.execute_reply": "2024-03-01T04:03:16.219307Z"
    },
    "id": "MehEvwAGwMs3",
    "outputId": "98293a48-d349-47ff-9814-a3fcde6365e7",
    "papermill": {
     "duration": 0.249423,
     "end_time": "2024-03-01T04:03:16.222845",
     "exception": false,
     "start_time": "2024-03-01T04:03:15.973422",
     "status": "completed"
    },
    "tags": []
   },
   "outputs": [
    {
     "data": {
      "text/plain": [
       "<Axes: xlabel='Property_Area', ylabel='count'>"
      ]
     },
     "execution_count": 32,
     "metadata": {},
     "output_type": "execute_result"
    },
    {
     "data": {
      "image/png": "[encoded data removed]",
      "text/plain": [
       "<Figure size 640x480 with 1 Axes>"
      ]
     },
     "metadata": {},
     "output_type": "display_data"
    }
   ],
   "source": [
    "sns.countplot(data=data, x=\"Property_Area\",hue=\"Education\")"
   ]
  },
  {
   "cell_type": "markdown",
   "id": "e43a731c",
   "metadata": {
    "id": "RB69fysX0-JH",
    "papermill": {
     "duration": 0.023534,
     "end_time": "2024-03-01T04:03:16.270059",
     "exception": false,
     "start_time": "2024-03-01T04:03:16.246525",
     "status": "completed"
    },
    "tags": []
   },
   "source": [
    "People in the semiurban area are well educated"
   ]
  },
  {
   "cell_type": "code",
   "execution_count": 33,
   "id": "8bf069f7",
   "metadata": {
    "execution": {
     "iopub.execute_input": "2024-03-01T04:03:16.320002Z",
     "iopub.status.busy": "2024-03-01T04:03:16.318794Z",
     "iopub.status.idle": "2024-03-01T04:03:16.350421Z",
     "shell.execute_reply": "2024-03-01T04:03:16.349388Z"
    },
    "id": "jcCsEzuJwOcO",
    "outputId": "f8a05d90-2600-4eeb-a361-cd8b6f5bd858",
    "papermill": {
     "duration": 0.058913,
     "end_time": "2024-03-01T04:03:16.352763",
     "exception": false,
     "start_time": "2024-03-01T04:03:16.293850",
     "status": "completed"
    },
    "tags": []
   },
   "outputs": [
    {
     "data": {
      "text/html": [
       "<div>\n",
       "<style scoped>\n",
       "    .dataframe tbody tr th:only-of-type {\n",
       "        vertical-align: middle;\n",
       "    }\n",
       "\n",
       "    .dataframe tbody tr th {\n",
       "        vertical-align: top;\n",
       "    }\n",
       "\n",
       "    .dataframe thead th {\n",
       "        text-align: right;\n",
       "    }\n",
       "</style>\n",
       "<table border=\"1\" class=\"dataframe\">\n",
       "  <thead>\n",
       "    <tr style=\"text-align: right;\">\n",
       "      <th>Education</th>\n",
       "      <th>Graduate</th>\n",
       "      <th>Not Graduate</th>\n",
       "      <th>All</th>\n",
       "    </tr>\n",
       "    <tr>\n",
       "      <th>Property_Area</th>\n",
       "      <th></th>\n",
       "      <th></th>\n",
       "      <th></th>\n",
       "    </tr>\n",
       "  </thead>\n",
       "  <tbody>\n",
       "    <tr>\n",
       "      <th>Rural</th>\n",
       "      <td>131</td>\n",
       "      <td>48</td>\n",
       "      <td>179</td>\n",
       "    </tr>\n",
       "    <tr>\n",
       "      <th>Semiurban</th>\n",
       "      <td>187</td>\n",
       "      <td>46</td>\n",
       "      <td>233</td>\n",
       "    </tr>\n",
       "    <tr>\n",
       "      <th>Urban</th>\n",
       "      <td>162</td>\n",
       "      <td>40</td>\n",
       "      <td>202</td>\n",
       "    </tr>\n",
       "    <tr>\n",
       "      <th>All</th>\n",
       "      <td>480</td>\n",
       "      <td>134</td>\n",
       "      <td>614</td>\n",
       "    </tr>\n",
       "  </tbody>\n",
       "</table>\n",
       "</div>"
      ],
      "text/plain": [
       "Education      Graduate  Not Graduate  All\n",
       "Property_Area                             \n",
       "Rural               131            48  179\n",
       "Semiurban           187            46  233\n",
       "Urban               162            40  202\n",
       "All                 480           134  614"
      ]
     },
     "execution_count": 33,
     "metadata": {},
     "output_type": "execute_result"
    }
   ],
   "source": [
    "pd.crosstab(data[\"Property_Area\"],data[\"Education\"],margins=True)"
   ]
  },
  {
   "cell_type": "code",
   "execution_count": 34,
   "id": "d5ab269f",
   "metadata": {
    "execution": {
     "iopub.execute_input": "2024-03-01T04:03:16.402985Z",
     "iopub.status.busy": "2024-03-01T04:03:16.402291Z",
     "iopub.status.idle": "2024-03-01T04:03:16.811530Z",
     "shell.execute_reply": "2024-03-01T04:03:16.810240Z"
    },
    "id": "BSophGINVquF",
    "outputId": "6b80dbc7-c6bd-45fd-cb68-897defd85a1e",
    "papermill": {
     "duration": 0.437041,
     "end_time": "2024-03-01T04:03:16.813834",
     "exception": false,
     "start_time": "2024-03-01T04:03:16.376793",
     "status": "completed"
    },
    "tags": []
   },
   "outputs": [
    {
     "data": {
      "text/plain": [
       "<Axes: xlabel='ApplicantIncome', ylabel='Count'>"
      ]
     },
     "execution_count": 34,
     "metadata": {},
     "output_type": "execute_result"
    },
    {
     "data": {
      "image/png": "[encoded data removed]",
      "text/plain": [
       "<Figure size 640x480 with 1 Axes>"
      ]
     },
     "metadata": {},
     "output_type": "display_data"
    }
   ],
   "source": [
    "sns.histplot(data = data,x = 'ApplicantIncome' , kde = True , bins =10,hue = 'Loan_Status')"
   ]
  },
  {
   "cell_type": "code",
   "execution_count": 35,
   "id": "b088a8cf",
   "metadata": {
    "execution": {
     "iopub.execute_input": "2024-03-01T04:03:16.866055Z",
     "iopub.status.busy": "2024-03-01T04:03:16.865282Z",
     "iopub.status.idle": "2024-03-01T04:03:16.875760Z",
     "shell.execute_reply": "2024-03-01T04:03:16.874752Z"
    },
    "id": "5f47B2sgWcYs",
    "outputId": "81289169-3d82-4b88-b665-c34013006ce6",
    "papermill": {
     "duration": 0.038761,
     "end_time": "2024-03-01T04:03:16.877889",
     "exception": false,
     "start_time": "2024-03-01T04:03:16.839128",
     "status": "completed"
    },
    "tags": []
   },
   "outputs": [
    {
     "data": {
      "text/plain": [
       "Loan_Status\n",
       "No     5446.078125\n",
       "Yes    5384.068720\n",
       "Name: ApplicantIncome, dtype: float64"
      ]
     },
     "execution_count": 35,
     "metadata": {},
     "output_type": "execute_result"
    }
   ],
   "source": [
    "data.groupby('Loan_Status')['ApplicantIncome'].mean()"
   ]
  },
  {
   "cell_type": "markdown",
   "id": "6b1348bf",
   "metadata": {
    "id": "Zdp6KiWj1LJw",
    "papermill": {
     "duration": 0.024604,
     "end_time": "2024-03-01T04:03:16.928030",
     "exception": false,
     "start_time": "2024-03-01T04:03:16.903426",
     "status": "completed"
    },
    "tags": []
   },
   "source": [
    "On the histogram, we can see that those people whose salary above **5446** have a strong chances of getting a loan authorized."
   ]
  },
  {
   "cell_type": "code",
   "execution_count": 36,
   "id": "eba3f512",
   "metadata": {
    "execution": {
     "iopub.execute_input": "2024-03-01T04:03:16.980176Z",
     "iopub.status.busy": "2024-03-01T04:03:16.979604Z",
     "iopub.status.idle": "2024-03-01T04:03:17.002002Z",
     "shell.execute_reply": "2024-03-01T04:03:17.000871Z"
    },
    "id": "td__YQnKZBhN",
    "outputId": "88e94d47-009d-4cec-96ec-d7fb735770cb",
    "papermill": {
     "duration": 0.050648,
     "end_time": "2024-03-01T04:03:17.004170",
     "exception": false,
     "start_time": "2024-03-01T04:03:16.953522",
     "status": "completed"
    },
    "tags": []
   },
   "outputs": [
    {
     "data": {
      "text/html": [
       "<div>\n",
       "<style scoped>\n",
       "    .dataframe tbody tr th:only-of-type {\n",
       "        vertical-align: middle;\n",
       "    }\n",
       "\n",
       "    .dataframe tbody tr th {\n",
       "        vertical-align: top;\n",
       "    }\n",
       "\n",
       "    .dataframe thead th {\n",
       "        text-align: right;\n",
       "    }\n",
       "</style>\n",
       "<table border=\"1\" class=\"dataframe\">\n",
       "  <thead>\n",
       "    <tr style=\"text-align: right;\">\n",
       "      <th></th>\n",
       "      <th>Loan_ID</th>\n",
       "      <th>Gender</th>\n",
       "      <th>Married</th>\n",
       "      <th>Dependents</th>\n",
       "      <th>Education</th>\n",
       "      <th>Self_Employed</th>\n",
       "      <th>ApplicantIncome</th>\n",
       "      <th>CoapplicantIncome</th>\n",
       "      <th>LoanAmount</th>\n",
       "      <th>Loan_Amount_Term</th>\n",
       "      <th>Credit_History</th>\n",
       "      <th>Property_Area</th>\n",
       "      <th>Loan_Status</th>\n",
       "    </tr>\n",
       "  </thead>\n",
       "  <tbody>\n",
       "    <tr>\n",
       "      <th>0</th>\n",
       "      <td>LP001002</td>\n",
       "      <td>Male</td>\n",
       "      <td>No</td>\n",
       "      <td>0</td>\n",
       "      <td>Graduate</td>\n",
       "      <td>No</td>\n",
       "      <td>5849</td>\n",
       "      <td>0.0</td>\n",
       "      <td>146.412162</td>\n",
       "      <td>360.0</td>\n",
       "      <td>1.0</td>\n",
       "      <td>Urban</td>\n",
       "      <td>Yes</td>\n",
       "    </tr>\n",
       "    <tr>\n",
       "      <th>4</th>\n",
       "      <td>LP001008</td>\n",
       "      <td>Male</td>\n",
       "      <td>No</td>\n",
       "      <td>0</td>\n",
       "      <td>Graduate</td>\n",
       "      <td>No</td>\n",
       "      <td>6000</td>\n",
       "      <td>0.0</td>\n",
       "      <td>141.000000</td>\n",
       "      <td>360.0</td>\n",
       "      <td>1.0</td>\n",
       "      <td>Urban</td>\n",
       "      <td>Yes</td>\n",
       "    </tr>\n",
       "    <tr>\n",
       "      <th>9</th>\n",
       "      <td>LP001020</td>\n",
       "      <td>Male</td>\n",
       "      <td>Yes</td>\n",
       "      <td>1</td>\n",
       "      <td>Graduate</td>\n",
       "      <td>No</td>\n",
       "      <td>12841</td>\n",
       "      <td>10968.0</td>\n",
       "      <td>349.000000</td>\n",
       "      <td>360.0</td>\n",
       "      <td>1.0</td>\n",
       "      <td>Semiurban</td>\n",
       "      <td>No</td>\n",
       "    </tr>\n",
       "    <tr>\n",
       "      <th>20</th>\n",
       "      <td>LP001043</td>\n",
       "      <td>Male</td>\n",
       "      <td>Yes</td>\n",
       "      <td>0</td>\n",
       "      <td>Not Graduate</td>\n",
       "      <td>No</td>\n",
       "      <td>7660</td>\n",
       "      <td>0.0</td>\n",
       "      <td>104.000000</td>\n",
       "      <td>360.0</td>\n",
       "      <td>0.0</td>\n",
       "      <td>Urban</td>\n",
       "      <td>No</td>\n",
       "    </tr>\n",
       "    <tr>\n",
       "      <th>21</th>\n",
       "      <td>LP001046</td>\n",
       "      <td>Male</td>\n",
       "      <td>Yes</td>\n",
       "      <td>1</td>\n",
       "      <td>Graduate</td>\n",
       "      <td>No</td>\n",
       "      <td>5955</td>\n",
       "      <td>5625.0</td>\n",
       "      <td>315.000000</td>\n",
       "      <td>360.0</td>\n",
       "      <td>1.0</td>\n",
       "      <td>Urban</td>\n",
       "      <td>Yes</td>\n",
       "    </tr>\n",
       "    <tr>\n",
       "      <th>...</th>\n",
       "      <td>...</td>\n",
       "      <td>...</td>\n",
       "      <td>...</td>\n",
       "      <td>...</td>\n",
       "      <td>...</td>\n",
       "      <td>...</td>\n",
       "      <td>...</td>\n",
       "      <td>...</td>\n",
       "      <td>...</td>\n",
       "      <td>...</td>\n",
       "      <td>...</td>\n",
       "      <td>...</td>\n",
       "      <td>...</td>\n",
       "    </tr>\n",
       "    <tr>\n",
       "      <th>599</th>\n",
       "      <td>LP002948</td>\n",
       "      <td>Male</td>\n",
       "      <td>Yes</td>\n",
       "      <td>2</td>\n",
       "      <td>Graduate</td>\n",
       "      <td>No</td>\n",
       "      <td>5780</td>\n",
       "      <td>0.0</td>\n",
       "      <td>192.000000</td>\n",
       "      <td>360.0</td>\n",
       "      <td>1.0</td>\n",
       "      <td>Urban</td>\n",
       "      <td>Yes</td>\n",
       "    </tr>\n",
       "    <tr>\n",
       "      <th>602</th>\n",
       "      <td>LP002953</td>\n",
       "      <td>Male</td>\n",
       "      <td>Yes</td>\n",
       "      <td>3</td>\n",
       "      <td>Graduate</td>\n",
       "      <td>No</td>\n",
       "      <td>5703</td>\n",
       "      <td>0.0</td>\n",
       "      <td>128.000000</td>\n",
       "      <td>360.0</td>\n",
       "      <td>1.0</td>\n",
       "      <td>Urban</td>\n",
       "      <td>Yes</td>\n",
       "    </tr>\n",
       "    <tr>\n",
       "      <th>604</th>\n",
       "      <td>LP002959</td>\n",
       "      <td>Female</td>\n",
       "      <td>Yes</td>\n",
       "      <td>1</td>\n",
       "      <td>Graduate</td>\n",
       "      <td>No</td>\n",
       "      <td>12000</td>\n",
       "      <td>0.0</td>\n",
       "      <td>496.000000</td>\n",
       "      <td>360.0</td>\n",
       "      <td>1.0</td>\n",
       "      <td>Semiurban</td>\n",
       "      <td>Yes</td>\n",
       "    </tr>\n",
       "    <tr>\n",
       "      <th>611</th>\n",
       "      <td>LP002983</td>\n",
       "      <td>Male</td>\n",
       "      <td>Yes</td>\n",
       "      <td>1</td>\n",
       "      <td>Graduate</td>\n",
       "      <td>No</td>\n",
       "      <td>8072</td>\n",
       "      <td>240.0</td>\n",
       "      <td>253.000000</td>\n",
       "      <td>360.0</td>\n",
       "      <td>1.0</td>\n",
       "      <td>Urban</td>\n",
       "      <td>Yes</td>\n",
       "    </tr>\n",
       "    <tr>\n",
       "      <th>612</th>\n",
       "      <td>LP002984</td>\n",
       "      <td>Male</td>\n",
       "      <td>Yes</td>\n",
       "      <td>2</td>\n",
       "      <td>Graduate</td>\n",
       "      <td>No</td>\n",
       "      <td>7583</td>\n",
       "      <td>0.0</td>\n",
       "      <td>187.000000</td>\n",
       "      <td>360.0</td>\n",
       "      <td>1.0</td>\n",
       "      <td>Urban</td>\n",
       "      <td>Yes</td>\n",
       "    </tr>\n",
       "  </tbody>\n",
       "</table>\n",
       "<p>173 rows × 13 columns</p>\n",
       "</div>"
      ],
      "text/plain": [
       "      Loan_ID  Gender Married Dependents     Education Self_Employed  \\\n",
       "0    LP001002    Male      No          0      Graduate            No   \n",
       "4    LP001008    Male      No          0      Graduate            No   \n",
       "9    LP001020    Male     Yes          1      Graduate            No   \n",
       "20   LP001043    Male     Yes          0  Not Graduate            No   \n",
       "21   LP001046    Male     Yes          1      Graduate            No   \n",
       "..        ...     ...     ...        ...           ...           ...   \n",
       "599  LP002948    Male     Yes          2      Graduate            No   \n",
       "602  LP002953    Male     Yes          3      Graduate            No   \n",
       "604  LP002959  Female     Yes          1      Graduate            No   \n",
       "611  LP002983    Male     Yes          1      Graduate            No   \n",
       "612  LP002984    Male     Yes          2      Graduate            No   \n",
       "\n",
       "     ApplicantIncome  CoapplicantIncome  LoanAmount  Loan_Amount_Term  \\\n",
       "0               5849                0.0  146.412162             360.0   \n",
       "4               6000                0.0  141.000000             360.0   \n",
       "9              12841            10968.0  349.000000             360.0   \n",
       "20              7660                0.0  104.000000             360.0   \n",
       "21              5955             5625.0  315.000000             360.0   \n",
       "..               ...                ...         ...               ...   \n",
       "599             5780                0.0  192.000000             360.0   \n",
       "602             5703                0.0  128.000000             360.0   \n",
       "604            12000                0.0  496.000000             360.0   \n",
       "611             8072              240.0  253.000000             360.0   \n",
       "612             7583                0.0  187.000000             360.0   \n",
       "\n",
       "     Credit_History Property_Area Loan_Status  \n",
       "0               1.0         Urban         Yes  \n",
       "4               1.0         Urban         Yes  \n",
       "9               1.0     Semiurban          No  \n",
       "20              0.0         Urban          No  \n",
       "21              1.0         Urban         Yes  \n",
       "..              ...           ...         ...  \n",
       "599             1.0         Urban         Yes  \n",
       "602             1.0         Urban         Yes  \n",
       "604             1.0     Semiurban         Yes  \n",
       "611             1.0         Urban         Yes  \n",
       "612             1.0         Urban         Yes  \n",
       "\n",
       "[173 rows x 13 columns]"
      ]
     },
     "execution_count": 36,
     "metadata": {},
     "output_type": "execute_result"
    }
   ],
   "source": [
    "data[data['ApplicantIncome']>5446.078125]"
   ]
  },
  {
   "cell_type": "code",
   "execution_count": 37,
   "id": "e354e449",
   "metadata": {
    "execution": {
     "iopub.execute_input": "2024-03-01T04:03:17.056404Z",
     "iopub.status.busy": "2024-03-01T04:03:17.056002Z",
     "iopub.status.idle": "2024-03-01T04:03:17.441234Z",
     "shell.execute_reply": "2024-03-01T04:03:17.440271Z"
    },
    "id": "ZyB81QEGWr1s",
    "outputId": "16836469-2666-4ff6-b8f2-2a90b1fcb63b",
    "papermill": {
     "duration": 0.414343,
     "end_time": "2024-03-01T04:03:17.443907",
     "exception": false,
     "start_time": "2024-03-01T04:03:17.029564",
     "status": "completed"
    },
    "tags": []
   },
   "outputs": [
    {
     "data": {
      "text/plain": [
       "<Axes: xlabel='Credit_History', ylabel='Count'>"
      ]
     },
     "execution_count": 37,
     "metadata": {},
     "output_type": "execute_result"
    },
    {
     "data": {
      "image/png": "[encoded data removed]",
      "text/plain": [
       "<Figure size 640x480 with 1 Axes>"
      ]
     },
     "metadata": {},
     "output_type": "display_data"
    }
   ],
   "source": [
    "sns.histplot(data = data,x = 'Credit_History' , kde = True , bins =10,hue = 'Loan_Status')"
   ]
  },
  {
   "cell_type": "code",
   "execution_count": 38,
   "id": "7180c379",
   "metadata": {
    "execution": {
     "iopub.execute_input": "2024-03-01T04:03:17.497971Z",
     "iopub.status.busy": "2024-03-01T04:03:17.497302Z",
     "iopub.status.idle": "2024-03-01T04:03:17.506671Z",
     "shell.execute_reply": "2024-03-01T04:03:17.505606Z"
    },
    "id": "2Sjcg91vW974",
    "outputId": "d509b9d0-7c4f-494e-e29a-0c6c9fe80424",
    "papermill": {
     "duration": 0.038974,
     "end_time": "2024-03-01T04:03:17.508745",
     "exception": false,
     "start_time": "2024-03-01T04:03:17.469771",
     "status": "completed"
    },
    "tags": []
   },
   "outputs": [
    {
     "data": {
      "text/plain": [
       "Loan_Status\n",
       "No     0.562232\n",
       "Yes    0.969577\n",
       "Name: Credit_History, dtype: float64"
      ]
     },
     "execution_count": 38,
     "metadata": {},
     "output_type": "execute_result"
    }
   ],
   "source": [
    "data.groupby('Loan_Status')['Credit_History'].mean()"
   ]
  },
  {
   "cell_type": "markdown",
   "id": "9a6ad077",
   "metadata": {
    "id": "Ow_CkHVO1FQp",
    "papermill": {
     "duration": 0.025411,
     "end_time": "2024-03-01T04:03:17.560976",
     "exception": false,
     "start_time": "2024-03-01T04:03:17.535565",
     "status": "completed"
    },
    "tags": []
   },
   "source": [
    "Those whose credit history is more than 0.562232 have an excellent chances of getting a loan approved"
   ]
  },
  {
   "cell_type": "code",
   "execution_count": 39,
   "id": "8e992f28",
   "metadata": {
    "execution": {
     "iopub.execute_input": "2024-03-01T04:03:17.614422Z",
     "iopub.status.busy": "2024-03-01T04:03:17.613657Z",
     "iopub.status.idle": "2024-03-01T04:03:17.634466Z",
     "shell.execute_reply": "2024-03-01T04:03:17.633402Z"
    },
    "id": "Z4g-XCgRZxEr",
    "outputId": "078e1c4d-d39b-45be-cc3f-9f49ec1832fe",
    "papermill": {
     "duration": 0.049839,
     "end_time": "2024-03-01T04:03:17.636746",
     "exception": false,
     "start_time": "2024-03-01T04:03:17.586907",
     "status": "completed"
    },
    "tags": []
   },
   "outputs": [
    {
     "data": {
      "text/html": [
       "<div>\n",
       "<style scoped>\n",
       "    .dataframe tbody tr th:only-of-type {\n",
       "        vertical-align: middle;\n",
       "    }\n",
       "\n",
       "    .dataframe tbody tr th {\n",
       "        vertical-align: top;\n",
       "    }\n",
       "\n",
       "    .dataframe thead th {\n",
       "        text-align: right;\n",
       "    }\n",
       "</style>\n",
       "<table border=\"1\" class=\"dataframe\">\n",
       "  <thead>\n",
       "    <tr style=\"text-align: right;\">\n",
       "      <th></th>\n",
       "      <th>Loan_ID</th>\n",
       "      <th>Gender</th>\n",
       "      <th>Married</th>\n",
       "      <th>Dependents</th>\n",
       "      <th>Education</th>\n",
       "      <th>Self_Employed</th>\n",
       "      <th>ApplicantIncome</th>\n",
       "      <th>CoapplicantIncome</th>\n",
       "      <th>LoanAmount</th>\n",
       "      <th>Loan_Amount_Term</th>\n",
       "      <th>Credit_History</th>\n",
       "      <th>Property_Area</th>\n",
       "      <th>Loan_Status</th>\n",
       "    </tr>\n",
       "  </thead>\n",
       "  <tbody>\n",
       "    <tr>\n",
       "      <th>0</th>\n",
       "      <td>LP001002</td>\n",
       "      <td>Male</td>\n",
       "      <td>No</td>\n",
       "      <td>0</td>\n",
       "      <td>Graduate</td>\n",
       "      <td>No</td>\n",
       "      <td>5849</td>\n",
       "      <td>0.0</td>\n",
       "      <td>146.412162</td>\n",
       "      <td>360.0</td>\n",
       "      <td>1.0</td>\n",
       "      <td>Urban</td>\n",
       "      <td>Yes</td>\n",
       "    </tr>\n",
       "    <tr>\n",
       "      <th>1</th>\n",
       "      <td>LP001003</td>\n",
       "      <td>Male</td>\n",
       "      <td>Yes</td>\n",
       "      <td>1</td>\n",
       "      <td>Graduate</td>\n",
       "      <td>No</td>\n",
       "      <td>4583</td>\n",
       "      <td>1508.0</td>\n",
       "      <td>128.000000</td>\n",
       "      <td>360.0</td>\n",
       "      <td>1.0</td>\n",
       "      <td>Rural</td>\n",
       "      <td>No</td>\n",
       "    </tr>\n",
       "    <tr>\n",
       "      <th>2</th>\n",
       "      <td>LP001005</td>\n",
       "      <td>Male</td>\n",
       "      <td>Yes</td>\n",
       "      <td>0</td>\n",
       "      <td>Graduate</td>\n",
       "      <td>Yes</td>\n",
       "      <td>3000</td>\n",
       "      <td>0.0</td>\n",
       "      <td>66.000000</td>\n",
       "      <td>360.0</td>\n",
       "      <td>1.0</td>\n",
       "      <td>Urban</td>\n",
       "      <td>Yes</td>\n",
       "    </tr>\n",
       "    <tr>\n",
       "      <th>3</th>\n",
       "      <td>LP001006</td>\n",
       "      <td>Male</td>\n",
       "      <td>Yes</td>\n",
       "      <td>0</td>\n",
       "      <td>Not Graduate</td>\n",
       "      <td>No</td>\n",
       "      <td>2583</td>\n",
       "      <td>2358.0</td>\n",
       "      <td>120.000000</td>\n",
       "      <td>360.0</td>\n",
       "      <td>1.0</td>\n",
       "      <td>Urban</td>\n",
       "      <td>Yes</td>\n",
       "    </tr>\n",
       "    <tr>\n",
       "      <th>4</th>\n",
       "      <td>LP001008</td>\n",
       "      <td>Male</td>\n",
       "      <td>No</td>\n",
       "      <td>0</td>\n",
       "      <td>Graduate</td>\n",
       "      <td>No</td>\n",
       "      <td>6000</td>\n",
       "      <td>0.0</td>\n",
       "      <td>141.000000</td>\n",
       "      <td>360.0</td>\n",
       "      <td>1.0</td>\n",
       "      <td>Urban</td>\n",
       "      <td>Yes</td>\n",
       "    </tr>\n",
       "    <tr>\n",
       "      <th>...</th>\n",
       "      <td>...</td>\n",
       "      <td>...</td>\n",
       "      <td>...</td>\n",
       "      <td>...</td>\n",
       "      <td>...</td>\n",
       "      <td>...</td>\n",
       "      <td>...</td>\n",
       "      <td>...</td>\n",
       "      <td>...</td>\n",
       "      <td>...</td>\n",
       "      <td>...</td>\n",
       "      <td>...</td>\n",
       "      <td>...</td>\n",
       "    </tr>\n",
       "    <tr>\n",
       "      <th>608</th>\n",
       "      <td>LP002974</td>\n",
       "      <td>Male</td>\n",
       "      <td>Yes</td>\n",
       "      <td>0</td>\n",
       "      <td>Graduate</td>\n",
       "      <td>No</td>\n",
       "      <td>3232</td>\n",
       "      <td>1950.0</td>\n",
       "      <td>108.000000</td>\n",
       "      <td>360.0</td>\n",
       "      <td>1.0</td>\n",
       "      <td>Rural</td>\n",
       "      <td>Yes</td>\n",
       "    </tr>\n",
       "    <tr>\n",
       "      <th>609</th>\n",
       "      <td>LP002978</td>\n",
       "      <td>Female</td>\n",
       "      <td>No</td>\n",
       "      <td>0</td>\n",
       "      <td>Graduate</td>\n",
       "      <td>No</td>\n",
       "      <td>2900</td>\n",
       "      <td>0.0</td>\n",
       "      <td>71.000000</td>\n",
       "      <td>360.0</td>\n",
       "      <td>1.0</td>\n",
       "      <td>Rural</td>\n",
       "      <td>Yes</td>\n",
       "    </tr>\n",
       "    <tr>\n",
       "      <th>610</th>\n",
       "      <td>LP002979</td>\n",
       "      <td>Male</td>\n",
       "      <td>Yes</td>\n",
       "      <td>3</td>\n",
       "      <td>Graduate</td>\n",
       "      <td>No</td>\n",
       "      <td>4106</td>\n",
       "      <td>0.0</td>\n",
       "      <td>40.000000</td>\n",
       "      <td>180.0</td>\n",
       "      <td>1.0</td>\n",
       "      <td>Rural</td>\n",
       "      <td>Yes</td>\n",
       "    </tr>\n",
       "    <tr>\n",
       "      <th>611</th>\n",
       "      <td>LP002983</td>\n",
       "      <td>Male</td>\n",
       "      <td>Yes</td>\n",
       "      <td>1</td>\n",
       "      <td>Graduate</td>\n",
       "      <td>No</td>\n",
       "      <td>8072</td>\n",
       "      <td>240.0</td>\n",
       "      <td>253.000000</td>\n",
       "      <td>360.0</td>\n",
       "      <td>1.0</td>\n",
       "      <td>Urban</td>\n",
       "      <td>Yes</td>\n",
       "    </tr>\n",
       "    <tr>\n",
       "      <th>612</th>\n",
       "      <td>LP002984</td>\n",
       "      <td>Male</td>\n",
       "      <td>Yes</td>\n",
       "      <td>2</td>\n",
       "      <td>Graduate</td>\n",
       "      <td>No</td>\n",
       "      <td>7583</td>\n",
       "      <td>0.0</td>\n",
       "      <td>187.000000</td>\n",
       "      <td>360.0</td>\n",
       "      <td>1.0</td>\n",
       "      <td>Urban</td>\n",
       "      <td>Yes</td>\n",
       "    </tr>\n",
       "  </tbody>\n",
       "</table>\n",
       "<p>525 rows × 13 columns</p>\n",
       "</div>"
      ],
      "text/plain": [
       "      Loan_ID  Gender Married Dependents     Education Self_Employed  \\\n",
       "0    LP001002    Male      No          0      Graduate            No   \n",
       "1    LP001003    Male     Yes          1      Graduate            No   \n",
       "2    LP001005    Male     Yes          0      Graduate           Yes   \n",
       "3    LP001006    Male     Yes          0  Not Graduate            No   \n",
       "4    LP001008    Male      No          0      Graduate            No   \n",
       "..        ...     ...     ...        ...           ...           ...   \n",
       "608  LP002974    Male     Yes          0      Graduate            No   \n",
       "609  LP002978  Female      No          0      Graduate            No   \n",
       "610  LP002979    Male     Yes          3      Graduate            No   \n",
       "611  LP002983    Male     Yes          1      Graduate            No   \n",
       "612  LP002984    Male     Yes          2      Graduate            No   \n",
       "\n",
       "     ApplicantIncome  CoapplicantIncome  LoanAmount  Loan_Amount_Term  \\\n",
       "0               5849                0.0  146.412162             360.0   \n",
       "1               4583             1508.0  128.000000             360.0   \n",
       "2               3000                0.0   66.000000             360.0   \n",
       "3               2583             2358.0  120.000000             360.0   \n",
       "4               6000                0.0  141.000000             360.0   \n",
       "..               ...                ...         ...               ...   \n",
       "608             3232             1950.0  108.000000             360.0   \n",
       "609             2900                0.0   71.000000             360.0   \n",
       "610             4106                0.0   40.000000             180.0   \n",
       "611             8072              240.0  253.000000             360.0   \n",
       "612             7583                0.0  187.000000             360.0   \n",
       "\n",
       "     Credit_History Property_Area Loan_Status  \n",
       "0               1.0         Urban         Yes  \n",
       "1               1.0         Rural          No  \n",
       "2               1.0         Urban         Yes  \n",
       "3               1.0         Urban         Yes  \n",
       "4               1.0         Urban         Yes  \n",
       "..              ...           ...         ...  \n",
       "608             1.0         Rural         Yes  \n",
       "609             1.0         Rural         Yes  \n",
       "610             1.0         Rural         Yes  \n",
       "611             1.0         Urban         Yes  \n",
       "612             1.0         Urban         Yes  \n",
       "\n",
       "[525 rows x 13 columns]"
      ]
     },
     "execution_count": 39,
     "metadata": {},
     "output_type": "execute_result"
    }
   ],
   "source": [
    "data[data['Credit_History']>0.562232]"
   ]
  },
  {
   "cell_type": "code",
   "execution_count": 40,
   "id": "c997b633",
   "metadata": {
    "execution": {
     "iopub.execute_input": "2024-03-01T04:03:17.690892Z",
     "iopub.status.busy": "2024-03-01T04:03:17.690487Z",
     "iopub.status.idle": "2024-03-01T04:03:17.853320Z",
     "shell.execute_reply": "2024-03-01T04:03:17.852192Z"
    },
    "id": "hP6fwfO7wT0R",
    "outputId": "434ea14a-f9bf-4e6e-b73d-4a1cee5abbeb",
    "papermill": {
     "duration": 0.19274,
     "end_time": "2024-03-01T04:03:17.855662",
     "exception": false,
     "start_time": "2024-03-01T04:03:17.662922",
     "status": "completed"
    },
    "tags": []
   },
   "outputs": [
    {
     "data": {
      "text/plain": [
       "<Axes: >"
      ]
     },
     "execution_count": 40,
     "metadata": {},
     "output_type": "execute_result"
    },
    {
     "data": {
      "image/png": "[encoded data removed]",
      "text/plain": [
       "<Figure size 640x480 with 1 Axes>"
      ]
     },
     "metadata": {},
     "output_type": "display_data"
    }
   ],
   "source": [
    "sns.boxplot(data[\"ApplicantIncome\"]) #finding outlier"
   ]
  },
  {
   "cell_type": "code",
   "execution_count": 41,
   "id": "769bd9d8",
   "metadata": {
    "execution": {
     "iopub.execute_input": "2024-03-01T04:03:17.913922Z",
     "iopub.status.busy": "2024-03-01T04:03:17.912674Z",
     "iopub.status.idle": "2024-03-01T04:03:18.093111Z",
     "shell.execute_reply": "2024-03-01T04:03:18.092049Z"
    },
    "id": "3RiqylFawh39",
    "outputId": "834bafc3-b37c-45b3-b235-8d37c726baa3",
    "papermill": {
     "duration": 0.21235,
     "end_time": "2024-03-01T04:03:18.095454",
     "exception": false,
     "start_time": "2024-03-01T04:03:17.883104",
     "status": "completed"
    },
    "tags": []
   },
   "outputs": [
    {
     "data": {
      "text/plain": [
       "<Axes: >"
      ]
     },
     "execution_count": 41,
     "metadata": {},
     "output_type": "execute_result"
    },
    {
     "data": {
      "image/png": "[encoded data removed]",
      "text/plain": [
       "<Figure size 640x480 with 1 Axes>"
      ]
     },
     "metadata": {},
     "output_type": "display_data"
    }
   ],
   "source": [
    "sns.boxplot(data[\"CoapplicantIncome\"]) #finding outlier"
   ]
  },
  {
   "cell_type": "code",
   "execution_count": 42,
   "id": "31967a62",
   "metadata": {
    "execution": {
     "iopub.execute_input": "2024-03-01T04:03:18.151453Z",
     "iopub.status.busy": "2024-03-01T04:03:18.151055Z",
     "iopub.status.idle": "2024-03-01T04:03:18.346556Z",
     "shell.execute_reply": "2024-03-01T04:03:18.345441Z"
    },
    "id": "tGi-B0wCwkJp",
    "outputId": "a015b174-9132-4140-ce4c-eaa804c8aff8",
    "papermill": {
     "duration": 0.226031,
     "end_time": "2024-03-01T04:03:18.348785",
     "exception": false,
     "start_time": "2024-03-01T04:03:18.122754",
     "status": "completed"
    },
    "tags": []
   },
   "outputs": [
    {
     "data": {
      "text/plain": [
       "<Axes: >"
      ]
     },
     "execution_count": 42,
     "metadata": {},
     "output_type": "execute_result"
    },
    {
     "data": {
      "image/png": "[encoded data removed]",
      "text/plain": [
       "<Figure size 640x480 with 1 Axes>"
      ]
     },
     "metadata": {},
     "output_type": "display_data"
    }
   ],
   "source": [
    "sns.boxplot(data[\"LoanAmount\"]) #finding outlier"
   ]
  },
  {
   "cell_type": "code",
   "execution_count": 43,
   "id": "6d86df66",
   "metadata": {
    "execution": {
     "iopub.execute_input": "2024-03-01T04:03:18.406717Z",
     "iopub.status.busy": "2024-03-01T04:03:18.406287Z",
     "iopub.status.idle": "2024-03-01T04:03:18.593908Z",
     "shell.execute_reply": "2024-03-01T04:03:18.592756Z"
    },
    "id": "clNVmVA6wm2V",
    "outputId": "652c66c5-a41e-46cd-cb7b-943cc795b780",
    "papermill": {
     "duration": 0.219006,
     "end_time": "2024-03-01T04:03:18.595971",
     "exception": false,
     "start_time": "2024-03-01T04:03:18.376965",
     "status": "completed"
    },
    "tags": []
   },
   "outputs": [
    {
     "data": {
      "text/plain": [
       "<Axes: >"
      ]
     },
     "execution_count": 43,
     "metadata": {},
     "output_type": "execute_result"
    },
    {
     "data": {
      "image/png": "[encoded data removed]",
      "text/plain": [
       "<Figure size 640x480 with 1 Axes>"
      ]
     },
     "metadata": {},
     "output_type": "display_data"
    }
   ],
   "source": [
    "sns.boxplot(data[\"Loan_Amount_Term\"]) #finding outlier"
   ]
  },
  {
   "cell_type": "code",
   "execution_count": 44,
   "id": "c08ed083",
   "metadata": {
    "execution": {
     "iopub.execute_input": "2024-03-01T04:03:18.654012Z",
     "iopub.status.busy": "2024-03-01T04:03:18.653157Z",
     "iopub.status.idle": "2024-03-01T04:03:18.838164Z",
     "shell.execute_reply": "2024-03-01T04:03:18.837364Z"
    },
    "id": "1kLWYasJwoia",
    "outputId": "e4d061d6-7814-4438-bff1-2761c5b9a10a",
    "papermill": {
     "duration": 0.216452,
     "end_time": "2024-03-01T04:03:18.840128",
     "exception": false,
     "start_time": "2024-03-01T04:03:18.623676",
     "status": "completed"
    },
    "tags": []
   },
   "outputs": [
    {
     "data": {
      "text/plain": [
       "<Axes: >"
      ]
     },
     "execution_count": 44,
     "metadata": {},
     "output_type": "execute_result"
    },
    {
     "data": {
      "image/png": "[encoded data removed]",
      "text/plain": [
       "<Figure size 640x480 with 1 Axes>"
      ]
     },
     "metadata": {},
     "output_type": "display_data"
    }
   ],
   "source": [
    "sns.boxplot(data[\"Credit_History\"]) #finding outlier"
   ]
  },
  {
   "cell_type": "markdown",
   "id": "84cff8e9",
   "metadata": {
    "id": "GMlWiKQlwyvd",
    "papermill": {
     "duration": 0.027904,
     "end_time": "2024-03-01T04:03:18.896417",
     "exception": false,
     "start_time": "2024-03-01T04:03:18.868513",
     "status": "completed"
    },
    "tags": []
   },
   "source": [
    "# **Processing**\n",
    "\n",
    "1.Drop\n",
    "\n",
    "2.Converting data\n",
    "\n",
    "3.spliting into independent & Dependent Feature"
   ]
  },
  {
   "cell_type": "code",
   "execution_count": 45,
   "id": "7ab3bce5",
   "metadata": {
    "execution": {
     "iopub.execute_input": "2024-03-01T04:03:18.955800Z",
     "iopub.status.busy": "2024-03-01T04:03:18.955170Z",
     "iopub.status.idle": "2024-03-01T04:03:18.960406Z",
     "shell.execute_reply": "2024-03-01T04:03:18.959499Z"
    },
    "id": "Cn42txLRwvFS",
    "papermill": {
     "duration": 0.037646,
     "end_time": "2024-03-01T04:03:18.962684",
     "exception": false,
     "start_time": "2024-03-01T04:03:18.925038",
     "status": "completed"
    },
    "tags": []
   },
   "outputs": [],
   "source": [
    "data.drop([\"Loan_ID\"], axis=1, inplace=True)"
   ]
  },
  {
   "cell_type": "code",
   "execution_count": 46,
   "id": "b31e7841",
   "metadata": {
    "execution": {
     "iopub.execute_input": "2024-03-01T04:03:19.023294Z",
     "iopub.status.busy": "2024-03-01T04:03:19.022226Z",
     "iopub.status.idle": "2024-03-01T04:03:19.042756Z",
     "shell.execute_reply": "2024-03-01T04:03:19.041664Z"
    },
    "id": "iq-prmWCCSHH",
    "outputId": "534933a6-42fb-47ff-b8e8-a17e6f50a063",
    "papermill": {
     "duration": 0.052872,
     "end_time": "2024-03-01T04:03:19.044781",
     "exception": false,
     "start_time": "2024-03-01T04:03:18.991909",
     "status": "completed"
    },
    "tags": []
   },
   "outputs": [
    {
     "data": {
      "text/html": [
       "<div>\n",
       "<style scoped>\n",
       "    .dataframe tbody tr th:only-of-type {\n",
       "        vertical-align: middle;\n",
       "    }\n",
       "\n",
       "    .dataframe tbody tr th {\n",
       "        vertical-align: top;\n",
       "    }\n",
       "\n",
       "    .dataframe thead th {\n",
       "        text-align: right;\n",
       "    }\n",
       "</style>\n",
       "<table border=\"1\" class=\"dataframe\">\n",
       "  <thead>\n",
       "    <tr style=\"text-align: right;\">\n",
       "      <th></th>\n",
       "      <th>Gender</th>\n",
       "      <th>Married</th>\n",
       "      <th>Dependents</th>\n",
       "      <th>Education</th>\n",
       "      <th>Self_Employed</th>\n",
       "      <th>ApplicantIncome</th>\n",
       "      <th>CoapplicantIncome</th>\n",
       "      <th>LoanAmount</th>\n",
       "      <th>Loan_Amount_Term</th>\n",
       "      <th>Credit_History</th>\n",
       "      <th>Property_Area</th>\n",
       "      <th>Loan_Status</th>\n",
       "    </tr>\n",
       "  </thead>\n",
       "  <tbody>\n",
       "    <tr>\n",
       "      <th>0</th>\n",
       "      <td>Male</td>\n",
       "      <td>No</td>\n",
       "      <td>0</td>\n",
       "      <td>Graduate</td>\n",
       "      <td>No</td>\n",
       "      <td>5849</td>\n",
       "      <td>0.0</td>\n",
       "      <td>146.412162</td>\n",
       "      <td>360.0</td>\n",
       "      <td>1.0</td>\n",
       "      <td>Urban</td>\n",
       "      <td>Yes</td>\n",
       "    </tr>\n",
       "    <tr>\n",
       "      <th>1</th>\n",
       "      <td>Male</td>\n",
       "      <td>Yes</td>\n",
       "      <td>1</td>\n",
       "      <td>Graduate</td>\n",
       "      <td>No</td>\n",
       "      <td>4583</td>\n",
       "      <td>1508.0</td>\n",
       "      <td>128.000000</td>\n",
       "      <td>360.0</td>\n",
       "      <td>1.0</td>\n",
       "      <td>Rural</td>\n",
       "      <td>No</td>\n",
       "    </tr>\n",
       "    <tr>\n",
       "      <th>2</th>\n",
       "      <td>Male</td>\n",
       "      <td>Yes</td>\n",
       "      <td>0</td>\n",
       "      <td>Graduate</td>\n",
       "      <td>Yes</td>\n",
       "      <td>3000</td>\n",
       "      <td>0.0</td>\n",
       "      <td>66.000000</td>\n",
       "      <td>360.0</td>\n",
       "      <td>1.0</td>\n",
       "      <td>Urban</td>\n",
       "      <td>Yes</td>\n",
       "    </tr>\n",
       "    <tr>\n",
       "      <th>3</th>\n",
       "      <td>Male</td>\n",
       "      <td>Yes</td>\n",
       "      <td>0</td>\n",
       "      <td>Not Graduate</td>\n",
       "      <td>No</td>\n",
       "      <td>2583</td>\n",
       "      <td>2358.0</td>\n",
       "      <td>120.000000</td>\n",
       "      <td>360.0</td>\n",
       "      <td>1.0</td>\n",
       "      <td>Urban</td>\n",
       "      <td>Yes</td>\n",
       "    </tr>\n",
       "    <tr>\n",
       "      <th>4</th>\n",
       "      <td>Male</td>\n",
       "      <td>No</td>\n",
       "      <td>0</td>\n",
       "      <td>Graduate</td>\n",
       "      <td>No</td>\n",
       "      <td>6000</td>\n",
       "      <td>0.0</td>\n",
       "      <td>141.000000</td>\n",
       "      <td>360.0</td>\n",
       "      <td>1.0</td>\n",
       "      <td>Urban</td>\n",
       "      <td>Yes</td>\n",
       "    </tr>\n",
       "    <tr>\n",
       "      <th>...</th>\n",
       "      <td>...</td>\n",
       "      <td>...</td>\n",
       "      <td>...</td>\n",
       "      <td>...</td>\n",
       "      <td>...</td>\n",
       "      <td>...</td>\n",
       "      <td>...</td>\n",
       "      <td>...</td>\n",
       "      <td>...</td>\n",
       "      <td>...</td>\n",
       "      <td>...</td>\n",
       "      <td>...</td>\n",
       "    </tr>\n",
       "    <tr>\n",
       "      <th>609</th>\n",
       "      <td>Female</td>\n",
       "      <td>No</td>\n",
       "      <td>0</td>\n",
       "      <td>Graduate</td>\n",
       "      <td>No</td>\n",
       "      <td>2900</td>\n",
       "      <td>0.0</td>\n",
       "      <td>71.000000</td>\n",
       "      <td>360.0</td>\n",
       "      <td>1.0</td>\n",
       "      <td>Rural</td>\n",
       "      <td>Yes</td>\n",
       "    </tr>\n",
       "    <tr>\n",
       "      <th>610</th>\n",
       "      <td>Male</td>\n",
       "      <td>Yes</td>\n",
       "      <td>3</td>\n",
       "      <td>Graduate</td>\n",
       "      <td>No</td>\n",
       "      <td>4106</td>\n",
       "      <td>0.0</td>\n",
       "      <td>40.000000</td>\n",
       "      <td>180.0</td>\n",
       "      <td>1.0</td>\n",
       "      <td>Rural</td>\n",
       "      <td>Yes</td>\n",
       "    </tr>\n",
       "    <tr>\n",
       "      <th>611</th>\n",
       "      <td>Male</td>\n",
       "      <td>Yes</td>\n",
       "      <td>1</td>\n",
       "      <td>Graduate</td>\n",
       "      <td>No</td>\n",
       "      <td>8072</td>\n",
       "      <td>240.0</td>\n",
       "      <td>253.000000</td>\n",
       "      <td>360.0</td>\n",
       "      <td>1.0</td>\n",
       "      <td>Urban</td>\n",
       "      <td>Yes</td>\n",
       "    </tr>\n",
       "    <tr>\n",
       "      <th>612</th>\n",
       "      <td>Male</td>\n",
       "      <td>Yes</td>\n",
       "      <td>2</td>\n",
       "      <td>Graduate</td>\n",
       "      <td>No</td>\n",
       "      <td>7583</td>\n",
       "      <td>0.0</td>\n",
       "      <td>187.000000</td>\n",
       "      <td>360.0</td>\n",
       "      <td>1.0</td>\n",
       "      <td>Urban</td>\n",
       "      <td>Yes</td>\n",
       "    </tr>\n",
       "    <tr>\n",
       "      <th>613</th>\n",
       "      <td>Female</td>\n",
       "      <td>No</td>\n",
       "      <td>0</td>\n",
       "      <td>Graduate</td>\n",
       "      <td>Yes</td>\n",
       "      <td>4583</td>\n",
       "      <td>0.0</td>\n",
       "      <td>133.000000</td>\n",
       "      <td>360.0</td>\n",
       "      <td>0.0</td>\n",
       "      <td>Semiurban</td>\n",
       "      <td>No</td>\n",
       "    </tr>\n",
       "  </tbody>\n",
       "</table>\n",
       "<p>614 rows × 12 columns</p>\n",
       "</div>"
      ],
      "text/plain": [
       "     Gender Married Dependents     Education Self_Employed  ApplicantIncome  \\\n",
       "0      Male      No          0      Graduate            No             5849   \n",
       "1      Male     Yes          1      Graduate            No             4583   \n",
       "2      Male     Yes          0      Graduate           Yes             3000   \n",
       "3      Male     Yes          0  Not Graduate            No             2583   \n",
       "4      Male      No          0      Graduate            No             6000   \n",
       "..      ...     ...        ...           ...           ...              ...   \n",
       "609  Female      No          0      Graduate            No             2900   \n",
       "610    Male     Yes          3      Graduate            No             4106   \n",
       "611    Male     Yes          1      Graduate            No             8072   \n",
       "612    Male     Yes          2      Graduate            No             7583   \n",
       "613  Female      No          0      Graduate           Yes             4583   \n",
       "\n",
       "     CoapplicantIncome  LoanAmount  Loan_Amount_Term  Credit_History  \\\n",
       "0                  0.0  146.412162             360.0             1.0   \n",
       "1               1508.0  128.000000             360.0             1.0   \n",
       "2                  0.0   66.000000             360.0             1.0   \n",
       "3               2358.0  120.000000             360.0             1.0   \n",
       "4                  0.0  141.000000             360.0             1.0   \n",
       "..                 ...         ...               ...             ...   \n",
       "609                0.0   71.000000             360.0             1.0   \n",
       "610                0.0   40.000000             180.0             1.0   \n",
       "611              240.0  253.000000             360.0             1.0   \n",
       "612                0.0  187.000000             360.0             1.0   \n",
       "613                0.0  133.000000             360.0             0.0   \n",
       "\n",
       "    Property_Area Loan_Status  \n",
       "0           Urban         Yes  \n",
       "1           Rural          No  \n",
       "2           Urban         Yes  \n",
       "3           Urban         Yes  \n",
       "4           Urban         Yes  \n",
       "..            ...         ...  \n",
       "609         Rural         Yes  \n",
       "610         Rural         Yes  \n",
       "611         Urban         Yes  \n",
       "612         Urban         Yes  \n",
       "613     Semiurban          No  \n",
       "\n",
       "[614 rows x 12 columns]"
      ]
     },
     "execution_count": 46,
     "metadata": {},
     "output_type": "execute_result"
    }
   ],
   "source": [
    "data"
   ]
  },
  {
   "cell_type": "code",
   "execution_count": 47,
   "id": "816dd34a",
   "metadata": {
    "execution": {
     "iopub.execute_input": "2024-03-01T04:03:19.103860Z",
     "iopub.status.busy": "2024-03-01T04:03:19.102759Z",
     "iopub.status.idle": "2024-03-01T04:03:19.128499Z",
     "shell.execute_reply": "2024-03-01T04:03:19.127493Z"
    },
    "id": "Md9on1PYw1Pl",
    "outputId": "626d9d0c-07dc-4fc8-d937-2caf4299befd",
    "papermill": {
     "duration": 0.057263,
     "end_time": "2024-03-01T04:03:19.130441",
     "exception": false,
     "start_time": "2024-03-01T04:03:19.073178",
     "status": "completed"
    },
    "tags": []
   },
   "outputs": [
    {
     "data": {
      "text/html": [
       "<div>\n",
       "<style scoped>\n",
       "    .dataframe tbody tr th:only-of-type {\n",
       "        vertical-align: middle;\n",
       "    }\n",
       "\n",
       "    .dataframe tbody tr th {\n",
       "        vertical-align: top;\n",
       "    }\n",
       "\n",
       "    .dataframe thead th {\n",
       "        text-align: right;\n",
       "    }\n",
       "</style>\n",
       "<table border=\"1\" class=\"dataframe\">\n",
       "  <thead>\n",
       "    <tr style=\"text-align: right;\">\n",
       "      <th></th>\n",
       "      <th>Gender</th>\n",
       "      <th>Married</th>\n",
       "      <th>Dependents</th>\n",
       "      <th>Education</th>\n",
       "      <th>Self_Employed</th>\n",
       "      <th>ApplicantIncome</th>\n",
       "      <th>CoapplicantIncome</th>\n",
       "      <th>LoanAmount</th>\n",
       "      <th>Loan_Amount_Term</th>\n",
       "      <th>Credit_History</th>\n",
       "      <th>Property_Area</th>\n",
       "      <th>Loan_Status</th>\n",
       "    </tr>\n",
       "  </thead>\n",
       "  <tbody>\n",
       "    <tr>\n",
       "      <th>0</th>\n",
       "      <td>0</td>\n",
       "      <td>0</td>\n",
       "      <td>0</td>\n",
       "      <td>1</td>\n",
       "      <td>0</td>\n",
       "      <td>5849</td>\n",
       "      <td>0.0</td>\n",
       "      <td>146.412162</td>\n",
       "      <td>360.0</td>\n",
       "      <td>1.0</td>\n",
       "      <td>0</td>\n",
       "      <td>1</td>\n",
       "    </tr>\n",
       "    <tr>\n",
       "      <th>1</th>\n",
       "      <td>0</td>\n",
       "      <td>1</td>\n",
       "      <td>1</td>\n",
       "      <td>1</td>\n",
       "      <td>0</td>\n",
       "      <td>4583</td>\n",
       "      <td>1508.0</td>\n",
       "      <td>128.000000</td>\n",
       "      <td>360.0</td>\n",
       "      <td>1.0</td>\n",
       "      <td>3</td>\n",
       "      <td>0</td>\n",
       "    </tr>\n",
       "    <tr>\n",
       "      <th>2</th>\n",
       "      <td>0</td>\n",
       "      <td>1</td>\n",
       "      <td>0</td>\n",
       "      <td>1</td>\n",
       "      <td>1</td>\n",
       "      <td>3000</td>\n",
       "      <td>0.0</td>\n",
       "      <td>66.000000</td>\n",
       "      <td>360.0</td>\n",
       "      <td>1.0</td>\n",
       "      <td>0</td>\n",
       "      <td>1</td>\n",
       "    </tr>\n",
       "    <tr>\n",
       "      <th>3</th>\n",
       "      <td>0</td>\n",
       "      <td>1</td>\n",
       "      <td>0</td>\n",
       "      <td>0</td>\n",
       "      <td>0</td>\n",
       "      <td>2583</td>\n",
       "      <td>2358.0</td>\n",
       "      <td>120.000000</td>\n",
       "      <td>360.0</td>\n",
       "      <td>1.0</td>\n",
       "      <td>0</td>\n",
       "      <td>1</td>\n",
       "    </tr>\n",
       "    <tr>\n",
       "      <th>4</th>\n",
       "      <td>0</td>\n",
       "      <td>0</td>\n",
       "      <td>0</td>\n",
       "      <td>1</td>\n",
       "      <td>0</td>\n",
       "      <td>6000</td>\n",
       "      <td>0.0</td>\n",
       "      <td>141.000000</td>\n",
       "      <td>360.0</td>\n",
       "      <td>1.0</td>\n",
       "      <td>0</td>\n",
       "      <td>1</td>\n",
       "    </tr>\n",
       "    <tr>\n",
       "      <th>...</th>\n",
       "      <td>...</td>\n",
       "      <td>...</td>\n",
       "      <td>...</td>\n",
       "      <td>...</td>\n",
       "      <td>...</td>\n",
       "      <td>...</td>\n",
       "      <td>...</td>\n",
       "      <td>...</td>\n",
       "      <td>...</td>\n",
       "      <td>...</td>\n",
       "      <td>...</td>\n",
       "      <td>...</td>\n",
       "    </tr>\n",
       "    <tr>\n",
       "      <th>609</th>\n",
       "      <td>1</td>\n",
       "      <td>0</td>\n",
       "      <td>0</td>\n",
       "      <td>1</td>\n",
       "      <td>0</td>\n",
       "      <td>2900</td>\n",
       "      <td>0.0</td>\n",
       "      <td>71.000000</td>\n",
       "      <td>360.0</td>\n",
       "      <td>1.0</td>\n",
       "      <td>3</td>\n",
       "      <td>1</td>\n",
       "    </tr>\n",
       "    <tr>\n",
       "      <th>610</th>\n",
       "      <td>0</td>\n",
       "      <td>1</td>\n",
       "      <td>3</td>\n",
       "      <td>1</td>\n",
       "      <td>0</td>\n",
       "      <td>4106</td>\n",
       "      <td>0.0</td>\n",
       "      <td>40.000000</td>\n",
       "      <td>180.0</td>\n",
       "      <td>1.0</td>\n",
       "      <td>3</td>\n",
       "      <td>1</td>\n",
       "    </tr>\n",
       "    <tr>\n",
       "      <th>611</th>\n",
       "      <td>0</td>\n",
       "      <td>1</td>\n",
       "      <td>1</td>\n",
       "      <td>1</td>\n",
       "      <td>0</td>\n",
       "      <td>8072</td>\n",
       "      <td>240.0</td>\n",
       "      <td>253.000000</td>\n",
       "      <td>360.0</td>\n",
       "      <td>1.0</td>\n",
       "      <td>0</td>\n",
       "      <td>1</td>\n",
       "    </tr>\n",
       "    <tr>\n",
       "      <th>612</th>\n",
       "      <td>0</td>\n",
       "      <td>1</td>\n",
       "      <td>2</td>\n",
       "      <td>1</td>\n",
       "      <td>0</td>\n",
       "      <td>7583</td>\n",
       "      <td>0.0</td>\n",
       "      <td>187.000000</td>\n",
       "      <td>360.0</td>\n",
       "      <td>1.0</td>\n",
       "      <td>0</td>\n",
       "      <td>1</td>\n",
       "    </tr>\n",
       "    <tr>\n",
       "      <th>613</th>\n",
       "      <td>1</td>\n",
       "      <td>0</td>\n",
       "      <td>0</td>\n",
       "      <td>1</td>\n",
       "      <td>1</td>\n",
       "      <td>4583</td>\n",
       "      <td>0.0</td>\n",
       "      <td>133.000000</td>\n",
       "      <td>360.0</td>\n",
       "      <td>0.0</td>\n",
       "      <td>1</td>\n",
       "      <td>0</td>\n",
       "    </tr>\n",
       "  </tbody>\n",
       "</table>\n",
       "<p>614 rows × 12 columns</p>\n",
       "</div>"
      ],
      "text/plain": [
       "     Gender  Married Dependents  Education  Self_Employed  ApplicantIncome  \\\n",
       "0         0        0          0          1              0             5849   \n",
       "1         0        1          1          1              0             4583   \n",
       "2         0        1          0          1              1             3000   \n",
       "3         0        1          0          0              0             2583   \n",
       "4         0        0          0          1              0             6000   \n",
       "..      ...      ...        ...        ...            ...              ...   \n",
       "609       1        0          0          1              0             2900   \n",
       "610       0        1          3          1              0             4106   \n",
       "611       0        1          1          1              0             8072   \n",
       "612       0        1          2          1              0             7583   \n",
       "613       1        0          0          1              1             4583   \n",
       "\n",
       "     CoapplicantIncome  LoanAmount  Loan_Amount_Term  Credit_History  \\\n",
       "0                  0.0  146.412162             360.0             1.0   \n",
       "1               1508.0  128.000000             360.0             1.0   \n",
       "2                  0.0   66.000000             360.0             1.0   \n",
       "3               2358.0  120.000000             360.0             1.0   \n",
       "4                  0.0  141.000000             360.0             1.0   \n",
       "..                 ...         ...               ...             ...   \n",
       "609                0.0   71.000000             360.0             1.0   \n",
       "610                0.0   40.000000             180.0             1.0   \n",
       "611              240.0  253.000000             360.0             1.0   \n",
       "612                0.0  187.000000             360.0             1.0   \n",
       "613                0.0  133.000000             360.0             0.0   \n",
       "\n",
       "     Property_Area  Loan_Status  \n",
       "0                0            1  \n",
       "1                3            0  \n",
       "2                0            1  \n",
       "3                0            1  \n",
       "4                0            1  \n",
       "..             ...          ...  \n",
       "609              3            1  \n",
       "610              3            1  \n",
       "611              0            1  \n",
       "612              0            1  \n",
       "613              1            0  \n",
       "\n",
       "[614 rows x 12 columns]"
      ]
     },
     "execution_count": 47,
     "metadata": {},
     "output_type": "execute_result"
    }
   ],
   "source": [
    "data[\"Gender\"]=data[\"Gender\"].replace({\"Male\":0,\"Female\":1})\n",
    "data[\"Married\"]=data[\"Married\"].replace({\"No\":0,\"Yes\":1})\n",
    "data[\"Education\"]=data[\"Education\"].replace({\"Not Graduate\":0,\"Graduate\":1})\n",
    "data[\"Self_Employed\"]=data[\"Self_Employed\"].replace({\"No\":0,\"Yes\":1})\n",
    "data[\"Property_Area\"]=data[\"Property_Area\"].replace({\"Urban\":0,\"Semiurban\":1,\"Rural\":3})\n",
    "data[\"Loan_Status\"]=data[\"Loan_Status\"].replace({\"No\":0,\"Yes\":1})\n",
    "data"
   ]
  },
  {
   "cell_type": "markdown",
   "id": "24730de5",
   "metadata": {
    "id": "Kgu-xMaLlKjH",
    "papermill": {
     "duration": 0.028808,
     "end_time": "2024-03-01T04:03:19.188846",
     "exception": false,
     "start_time": "2024-03-01T04:03:19.160038",
     "status": "completed"
    },
    "tags": []
   },
   "source": [
    "convert data into numeric from."
   ]
  },
  {
   "cell_type": "code",
   "execution_count": 48,
   "id": "7c9d188e",
   "metadata": {
    "execution": {
     "iopub.execute_input": "2024-03-01T04:03:19.248549Z",
     "iopub.status.busy": "2024-03-01T04:03:19.248156Z",
     "iopub.status.idle": "2024-03-01T04:03:19.254011Z",
     "shell.execute_reply": "2024-03-01T04:03:19.252911Z"
    },
    "id": "Irik8BkWw2rS",
    "papermill": {
     "duration": 0.038293,
     "end_time": "2024-03-01T04:03:19.256073",
     "exception": false,
     "start_time": "2024-03-01T04:03:19.217780",
     "status": "completed"
    },
    "tags": []
   },
   "outputs": [],
   "source": [
    "X=data.drop(columns=['Loan_Status'],axis=1)\n",
    "Y=data['Loan_Status']"
   ]
  },
  {
   "cell_type": "code",
   "execution_count": 49,
   "id": "4db9d629",
   "metadata": {
    "execution": {
     "iopub.execute_input": "2024-03-01T04:03:19.316873Z",
     "iopub.status.busy": "2024-03-01T04:03:19.316178Z",
     "iopub.status.idle": "2024-03-01T04:03:19.320758Z",
     "shell.execute_reply": "2024-03-01T04:03:19.319924Z"
    },
    "id": "ScqSfnA2w-Rj",
    "papermill": {
     "duration": 0.03753,
     "end_time": "2024-03-01T04:03:19.322971",
     "exception": false,
     "start_time": "2024-03-01T04:03:19.285441",
     "status": "completed"
    },
    "tags": []
   },
   "outputs": [],
   "source": [
    "Column=[\"ApplicantIncome\",\"CoapplicantIncome\",\"LoanAmount\",\"Loan_Amount_Term\"]"
   ]
  },
  {
   "cell_type": "markdown",
   "id": "8dbf450d",
   "metadata": {
    "id": "7fBLpx_bxCv9",
    "papermill": {
     "duration": 0.029608,
     "end_time": "2024-03-01T04:03:19.381884",
     "exception": false,
     "start_time": "2024-03-01T04:03:19.352276",
     "status": "completed"
    },
    "tags": []
   },
   "source": [
    "**1.**Now, we create an object for the numeric feature."
   ]
  },
  {
   "cell_type": "code",
   "execution_count": 50,
   "id": "a96ef66f",
   "metadata": {
    "execution": {
     "iopub.execute_input": "2024-03-01T04:03:19.442911Z",
     "iopub.status.busy": "2024-03-01T04:03:19.442500Z",
     "iopub.status.idle": "2024-03-01T04:03:19.446888Z",
     "shell.execute_reply": "2024-03-01T04:03:19.445776Z"
    },
    "id": "PZZbb2PVZAqO",
    "papermill": {
     "duration": 0.037994,
     "end_time": "2024-03-01T04:03:19.449001",
     "exception": false,
     "start_time": "2024-03-01T04:03:19.411007",
     "status": "completed"
    },
    "tags": []
   },
   "outputs": [],
   "source": [
    "from sklearn.model_selection import train_test_split"
   ]
  },
  {
   "cell_type": "code",
   "execution_count": 51,
   "id": "bccb4e4c",
   "metadata": {
    "execution": {
     "iopub.execute_input": "2024-03-01T04:03:19.511745Z",
     "iopub.status.busy": "2024-03-01T04:03:19.510996Z",
     "iopub.status.idle": "2024-03-01T04:03:19.519327Z",
     "shell.execute_reply": "2024-03-01T04:03:19.518422Z"
    },
    "id": "-9f-eyIdDemY",
    "papermill": {
     "duration": 0.043087,
     "end_time": "2024-03-01T04:03:19.521758",
     "exception": false,
     "start_time": "2024-03-01T04:03:19.478671",
     "status": "completed"
    },
    "tags": []
   },
   "outputs": [],
   "source": [
    "X_train, X_test, Y_train, Y_test = train_test_split(X,Y,test_size=0.3,random_state=20)"
   ]
  },
  {
   "cell_type": "code",
   "execution_count": 52,
   "id": "d9e5a73e",
   "metadata": {
    "execution": {
     "iopub.execute_input": "2024-03-01T04:03:19.584055Z",
     "iopub.status.busy": "2024-03-01T04:03:19.582382Z",
     "iopub.status.idle": "2024-03-01T04:03:19.593125Z",
     "shell.execute_reply": "2024-03-01T04:03:19.591899Z"
    },
    "id": "YpNSW4rkZKoV",
    "outputId": "770fb739-97b0-4ca5-b536-cb5947d1f8e9",
    "papermill": {
     "duration": 0.043612,
     "end_time": "2024-03-01T04:03:19.595192",
     "exception": false,
     "start_time": "2024-03-01T04:03:19.551580",
     "status": "completed"
    },
    "tags": []
   },
   "outputs": [
    {
     "data": {
      "text/plain": [
       "Loan_Status\n",
       "1    306\n",
       "0    123\n",
       "Name: count, dtype: int64"
      ]
     },
     "execution_count": 52,
     "metadata": {},
     "output_type": "execute_result"
    }
   ],
   "source": [
    "Y_train.value_counts()"
   ]
  },
  {
   "cell_type": "code",
   "execution_count": 53,
   "id": "6b8c93e8",
   "metadata": {
    "execution": {
     "iopub.execute_input": "2024-03-01T04:03:19.656624Z",
     "iopub.status.busy": "2024-03-01T04:03:19.656242Z",
     "iopub.status.idle": "2024-03-01T04:03:20.042469Z",
     "shell.execute_reply": "2024-03-01T04:03:20.041511Z"
    },
    "id": "M6p6d9RxZ8Y_",
    "papermill": {
     "duration": 0.420053,
     "end_time": "2024-03-01T04:03:20.045118",
     "exception": false,
     "start_time": "2024-03-01T04:03:19.625065",
     "status": "completed"
    },
    "tags": []
   },
   "outputs": [],
   "source": [
    "from imblearn.over_sampling import SMOTE\n",
    "os=SMOTE(random_state=20)"
   ]
  },
  {
   "cell_type": "code",
   "execution_count": 54,
   "id": "d57c5961",
   "metadata": {
    "execution": {
     "iopub.execute_input": "2024-03-01T04:03:20.107494Z",
     "iopub.status.busy": "2024-03-01T04:03:20.106953Z",
     "iopub.status.idle": "2024-03-01T04:03:20.124917Z",
     "shell.execute_reply": "2024-03-01T04:03:20.123787Z"
    },
    "id": "0Z_d6LyGaXZG",
    "outputId": "46d0f638-b790-42e0-b58e-d66b546dfe82",
    "papermill": {
     "duration": 0.051822,
     "end_time": "2024-03-01T04:03:20.127074",
     "exception": false,
     "start_time": "2024-03-01T04:03:20.075252",
     "status": "completed"
    },
    "tags": []
   },
   "outputs": [
    {
     "data": {
      "text/plain": [
       "Loan_Status\n",
       "1    306\n",
       "0    306\n",
       "Name: count, dtype: int64"
      ]
     },
     "execution_count": 54,
     "metadata": {},
     "output_type": "execute_result"
    }
   ],
   "source": [
    "X_train_os,Y_train_os=os.fit_resample(X_train,Y_train)\n",
    "Y_train_os.value_counts()"
   ]
  },
  {
   "cell_type": "markdown",
   "id": "b2700b3d",
   "metadata": {
    "id": "iaNwdLmyxGJd",
    "papermill": {
     "duration": 0.030502,
     "end_time": "2024-03-01T04:03:20.188466",
     "exception": false,
     "start_time": "2024-03-01T04:03:20.157964",
     "status": "completed"
    },
    "tags": []
   },
   "source": [
    "# **Model Building**\n",
    "\n",
    "1.Logistic Regression\n",
    "\n",
    "2.Support vector machine (SVM)\n"
   ]
  },
  {
   "cell_type": "markdown",
   "id": "5cccdc7d",
   "metadata": {
    "id": "Qw2m-r9x29LK",
    "papermill": {
     "duration": 0.029841,
     "end_time": "2024-03-01T04:03:20.249060",
     "exception": false,
     "start_time": "2024-03-01T04:03:20.219219",
     "status": "completed"
    },
    "tags": []
   },
   "source": [
    "**Logistic Regression**\n",
    "\n",
    "**-------------------------**"
   ]
  },
  {
   "cell_type": "code",
   "execution_count": 55,
   "id": "de6f0810",
   "metadata": {
    "execution": {
     "iopub.execute_input": "2024-03-01T04:03:20.311824Z",
     "iopub.status.busy": "2024-03-01T04:03:20.311165Z",
     "iopub.status.idle": "2024-03-01T04:03:20.315194Z",
     "shell.execute_reply": "2024-03-01T04:03:20.314244Z"
    },
    "id": "8DiBURRyxWtK",
    "papermill": {
     "duration": 0.038306,
     "end_time": "2024-03-01T04:03:20.317202",
     "exception": false,
     "start_time": "2024-03-01T04:03:20.278896",
     "status": "completed"
    },
    "tags": []
   },
   "outputs": [],
   "source": [
    "log=LogisticRegression()"
   ]
  },
  {
   "cell_type": "code",
   "execution_count": 56,
   "id": "112db5dc",
   "metadata": {
    "execution": {
     "iopub.execute_input": "2024-03-01T04:03:20.380591Z",
     "iopub.status.busy": "2024-03-01T04:03:20.379972Z",
     "iopub.status.idle": "2024-03-01T04:03:20.409993Z",
     "shell.execute_reply": "2024-03-01T04:03:20.409211Z"
    },
    "id": "J3HnPhSwxqza",
    "outputId": "026c63ac-8e37-4ea7-a7db-d679a7b07141",
    "papermill": {
     "duration": 0.063467,
     "end_time": "2024-03-01T04:03:20.411970",
     "exception": false,
     "start_time": "2024-03-01T04:03:20.348503",
     "status": "completed"
    },
    "tags": []
   },
   "outputs": [
    {
     "data": {
      "text/html": [
       "<style>#sk-container-id-1 {color: black;background-color: white;}#sk-container-id-1 pre{padding: 0;}#sk-container-id-1 div.sk-toggleable {background-color: white;}#sk-container-id-1 label.sk-toggleable__label {cursor: pointer;display: block;width: 100%;margin-bottom: 0;padding: 0.3em;box-sizing: border-box;text-align: center;}#sk-container-id-1 label.sk-toggleable__label-arrow:before {content: \"▸\";float: left;margin-right: 0.25em;color: #696969;}#sk-container-id-1 label.sk-toggleable__label-arrow:hover:before {color: black;}#sk-container-id-1 div.sk-estimator:hover label.sk-toggleable__label-arrow:before {color: black;}#sk-container-id-1 div.sk-toggleable__content {max-height: 0;max-width: 0;overflow: hidden;text-align: left;background-color: #f0f8ff;}#sk-container-id-1 div.sk-toggleable__content pre {margin: 0.2em;color: black;border-radius: 0.25em;background-color: #f0f8ff;}#sk-container-id-1 input.sk-toggleable__control:checked~div.sk-toggleable__content {max-height: 200px;max-width: 100%;overflow: auto;}#sk-container-id-1 input.sk-toggleable__control:checked~label.sk-toggleable__label-arrow:before {content: \"▾\";}#sk-container-id-1 div.sk-estimator input.sk-toggleable__control:checked~label.sk-toggleable__label {background-color: #d4ebff;}#sk-container-id-1 div.sk-label input.sk-toggleable__control:checked~label.sk-toggleable__label {background-color: #d4ebff;}#sk-container-id-1 input.sk-hidden--visually {border: 0;clip: rect(1px 1px 1px 1px);clip: rect(1px, 1px, 1px, 1px);height: 1px;margin: -1px;overflow: hidden;padding: 0;position: absolute;width: 1px;}#sk-container-id-1 div.sk-estimator {font-family: monospace;background-color: #f0f8ff;border: 1px dotted black;border-radius: 0.25em;box-sizing: border-box;margin-bottom: 0.5em;}#sk-container-id-1 div.sk-estimator:hover {background-color: #d4ebff;}#sk-container-id-1 div.sk-parallel-item::after {content: \"\";width: 100%;border-bottom: 1px solid gray;flex-grow: 1;}#sk-container-id-1 div.sk-label:hover label.sk-toggleable__label {background-color: #d4ebff;}#sk-container-id-1 div.sk-serial::before {content: \"\";position: absolute;border-left: 1px solid gray;box-sizing: border-box;top: 0;bottom: 0;left: 50%;z-index: 0;}#sk-container-id-1 div.sk-serial {display: flex;flex-direction: column;align-items: center;background-color: white;padding-right: 0.2em;padding-left: 0.2em;position: relative;}#sk-container-id-1 div.sk-item {position: relative;z-index: 1;}#sk-container-id-1 div.sk-parallel {display: flex;align-items: stretch;justify-content: center;background-color: white;position: relative;}#sk-container-id-1 div.sk-item::before, #sk-container-id-1 div.sk-parallel-item::before {content: \"\";position: absolute;border-left: 1px solid gray;box-sizing: border-box;top: 0;bottom: 0;left: 50%;z-index: -1;}#sk-container-id-1 div.sk-parallel-item {display: flex;flex-direction: column;z-index: 1;position: relative;background-color: white;}#sk-container-id-1 div.sk-parallel-item:first-child::after {align-self: flex-end;width: 50%;}#sk-container-id-1 div.sk-parallel-item:last-child::after {align-self: flex-start;width: 50%;}#sk-container-id-1 div.sk-parallel-item:only-child::after {width: 0;}#sk-container-id-1 div.sk-dashed-wrapped {border: 1px dashed gray;margin: 0 0.4em 0.5em 0.4em;box-sizing: border-box;padding-bottom: 0.4em;background-color: white;}#sk-container-id-1 div.sk-label label {font-family: monospace;font-weight: bold;display: inline-block;line-height: 1.2em;}#sk-container-id-1 div.sk-label-container {text-align: center;}#sk-container-id-1 div.sk-container {/* jupyter's `normalize.less` sets `[hidden] { display: none; }` but bootstrap.min.css set `[hidden] { display: none !important; }` so we also need the `!important` here to be able to override the default hidden behavior on the sphinx rendered scikit-learn.org. See: https://github.com/scikit-learn/scikit-learn/issues/21755 */display: inline-block !important;position: relative;}#sk-container-id-1 div.sk-text-repr-fallback {display: none;}</style><div id=\"sk-container-id-1\" class=\"sk-top-container\"><div class=\"sk-text-repr-fallback\"><pre>LogisticRegression()</pre><b>In a Jupyter environment, please rerun this cell to show the HTML representation or trust the notebook. <br />On GitHub, the HTML representation is unable to render, please try loading this page with nbviewer.org.</b></div><div class=\"sk-container\" hidden><div class=\"sk-item\"><div class=\"sk-estimator sk-toggleable\"><input class=\"sk-toggleable__control sk-hidden--visually\" id=\"sk-estimator-id-1\" type=\"checkbox\" checked><label for=\"sk-estimator-id-1\" class=\"sk-toggleable__label sk-toggleable__label-arrow\">LogisticRegression</label><div class=\"sk-toggleable__content\"><pre>LogisticRegression()</pre></div></div></div></div></div>"
      ],
      "text/plain": [
       "LogisticRegression()"
      ]
     },
     "execution_count": 56,
     "metadata": {},
     "output_type": "execute_result"
    }
   ],
   "source": [
    "log.fit(X_train_os,Y_train_os)"
   ]
  },
  {
   "cell_type": "code",
   "execution_count": 57,
   "id": "1a0123ba",
   "metadata": {
    "execution": {
     "iopub.execute_input": "2024-03-01T04:03:20.474728Z",
     "iopub.status.busy": "2024-03-01T04:03:20.474087Z",
     "iopub.status.idle": "2024-03-01T04:03:20.494010Z",
     "shell.execute_reply": "2024-03-01T04:03:20.492729Z"
    },
    "id": "PBm-tdsfxvZN",
    "outputId": "2d56be7c-c1ea-4aea-d85a-15490c79f184",
    "papermill": {
     "duration": 0.05403,
     "end_time": "2024-03-01T04:03:20.496395",
     "exception": false,
     "start_time": "2024-03-01T04:03:20.442365",
     "status": "completed"
    },
    "tags": []
   },
   "outputs": [
    {
     "name": "stdout",
     "output_type": "stream",
     "text": [
      "accuracy_score:  74.5945945945946\n",
      "precision_score:  76.33587786259542\n",
      "recall_score:  86.20689655172413\n",
      "f1_score:  80.97165991902834\n",
      "confusion_matrix: \n",
      " [[ 38  31]\n",
      " [ 16 100]]\n"
     ]
    }
   ],
   "source": [
    "log_pred = log.predict(X_test)\n",
    "log_cm= confusion_matrix(Y_test,log_pred)\n",
    "log_acc= accuracy_score(Y_test,log_pred)*100\n",
    "log_prec=precision_score(Y_test,log_pred)*100\n",
    "log_rec=recall_score(Y_test,log_pred)*100\n",
    "log_f1=f1_score(Y_test,log_pred)*100\n",
    "print(\"accuracy_score: \", log_acc)\n",
    "print(\"precision_score: \", log_prec)\n",
    "print(\"recall_score: \", log_rec)\n",
    "print(\"f1_score: \", log_f1)\n",
    "print(\"confusion_matrix: \\n\", log_cm)"
   ]
  },
  {
   "cell_type": "code",
   "execution_count": 58,
   "id": "fe62b984",
   "metadata": {
    "execution": {
     "iopub.execute_input": "2024-03-01T04:03:20.560241Z",
     "iopub.status.busy": "2024-03-01T04:03:20.559845Z",
     "iopub.status.idle": "2024-03-01T04:03:20.574258Z",
     "shell.execute_reply": "2024-03-01T04:03:20.573400Z"
    },
    "id": "mdrp2TzjDlvn",
    "outputId": "210f0521-898f-40a2-ac1b-77edb7d399d9",
    "papermill": {
     "duration": 0.048807,
     "end_time": "2024-03-01T04:03:20.576328",
     "exception": false,
     "start_time": "2024-03-01T04:03:20.527521",
     "status": "completed"
    },
    "tags": []
   },
   "outputs": [
    {
     "name": "stdout",
     "output_type": "stream",
     "text": [
      "              precision    recall  f1-score   support\n",
      "\n",
      "           0       0.70      0.55      0.62        69\n",
      "           1       0.76      0.86      0.81       116\n",
      "\n",
      "    accuracy                           0.75       185\n",
      "   macro avg       0.73      0.71      0.71       185\n",
      "weighted avg       0.74      0.75      0.74       185\n",
      "\n"
     ]
    }
   ],
   "source": [
    "print(classification_report(Y_test,log_pred))"
   ]
  },
  {
   "cell_type": "markdown",
   "id": "b48a8f72",
   "metadata": {
    "id": "b7ptTAJJy74a",
    "papermill": {
     "duration": 0.030406,
     "end_time": "2024-03-01T04:03:20.637395",
     "exception": false,
     "start_time": "2024-03-01T04:03:20.606989",
     "status": "completed"
    },
    "tags": []
   },
   "source": [
    "**Support vector machine (SVM)**\n",
    "\n",
    "**-----------------------------------**"
   ]
  },
  {
   "cell_type": "code",
   "execution_count": 59,
   "id": "4fdd0f05",
   "metadata": {
    "execution": {
     "iopub.execute_input": "2024-03-01T04:03:20.701568Z",
     "iopub.status.busy": "2024-03-01T04:03:20.700882Z",
     "iopub.status.idle": "2024-03-01T04:03:20.705412Z",
     "shell.execute_reply": "2024-03-01T04:03:20.704657Z"
    },
    "id": "lMH7vQLQzEMO",
    "papermill": {
     "duration": 0.039431,
     "end_time": "2024-03-01T04:03:20.707403",
     "exception": false,
     "start_time": "2024-03-01T04:03:20.667972",
     "status": "completed"
    },
    "tags": []
   },
   "outputs": [],
   "source": [
    "svm=SVC()"
   ]
  },
  {
   "cell_type": "code",
   "execution_count": 60,
   "id": "ad9604b6",
   "metadata": {
    "execution": {
     "iopub.execute_input": "2024-03-01T04:03:20.770505Z",
     "iopub.status.busy": "2024-03-01T04:03:20.769902Z",
     "iopub.status.idle": "2024-03-01T04:03:20.800261Z",
     "shell.execute_reply": "2024-03-01T04:03:20.799022Z"
    },
    "id": "MSxWteWzzIY-",
    "outputId": "12a54da3-cf84-4e09-d231-39060effec99",
    "papermill": {
     "duration": 0.064373,
     "end_time": "2024-03-01T04:03:20.802358",
     "exception": false,
     "start_time": "2024-03-01T04:03:20.737985",
     "status": "completed"
    },
    "tags": []
   },
   "outputs": [
    {
     "data": {
      "text/html": [
       "<style>#sk-container-id-2 {color: black;background-color: white;}#sk-container-id-2 pre{padding: 0;}#sk-container-id-2 div.sk-toggleable {background-color: white;}#sk-container-id-2 label.sk-toggleable__label {cursor: pointer;display: block;width: 100%;margin-bottom: 0;padding: 0.3em;box-sizing: border-box;text-align: center;}#sk-container-id-2 label.sk-toggleable__label-arrow:before {content: \"▸\";float: left;margin-right: 0.25em;color: #696969;}#sk-container-id-2 label.sk-toggleable__label-arrow:hover:before {color: black;}#sk-container-id-2 div.sk-estimator:hover label.sk-toggleable__label-arrow:before {color: black;}#sk-container-id-2 div.sk-toggleable__content {max-height: 0;max-width: 0;overflow: hidden;text-align: left;background-color: #f0f8ff;}#sk-container-id-2 div.sk-toggleable__content pre {margin: 0.2em;color: black;border-radius: 0.25em;background-color: #f0f8ff;}#sk-container-id-2 input.sk-toggleable__control:checked~div.sk-toggleable__content {max-height: 200px;max-width: 100%;overflow: auto;}#sk-container-id-2 input.sk-toggleable__control:checked~label.sk-toggleable__label-arrow:before {content: \"▾\";}#sk-container-id-2 div.sk-estimator input.sk-toggleable__control:checked~label.sk-toggleable__label {background-color: #d4ebff;}#sk-container-id-2 div.sk-label input.sk-toggleable__control:checked~label.sk-toggleable__label {background-color: #d4ebff;}#sk-container-id-2 input.sk-hidden--visually {border: 0;clip: rect(1px 1px 1px 1px);clip: rect(1px, 1px, 1px, 1px);height: 1px;margin: -1px;overflow: hidden;padding: 0;position: absolute;width: 1px;}#sk-container-id-2 div.sk-estimator {font-family: monospace;background-color: #f0f8ff;border: 1px dotted black;border-radius: 0.25em;box-sizing: border-box;margin-bottom: 0.5em;}#sk-container-id-2 div.sk-estimator:hover {background-color: #d4ebff;}#sk-container-id-2 div.sk-parallel-item::after {content: \"\";width: 100%;border-bottom: 1px solid gray;flex-grow: 1;}#sk-container-id-2 div.sk-label:hover label.sk-toggleable__label {background-color: #d4ebff;}#sk-container-id-2 div.sk-serial::before {content: \"\";position: absolute;border-left: 1px solid gray;box-sizing: border-box;top: 0;bottom: 0;left: 50%;z-index: 0;}#sk-container-id-2 div.sk-serial {display: flex;flex-direction: column;align-items: center;background-color: white;padding-right: 0.2em;padding-left: 0.2em;position: relative;}#sk-container-id-2 div.sk-item {position: relative;z-index: 1;}#sk-container-id-2 div.sk-parallel {display: flex;align-items: stretch;justify-content: center;background-color: white;position: relative;}#sk-container-id-2 div.sk-item::before, #sk-container-id-2 div.sk-parallel-item::before {content: \"\";position: absolute;border-left: 1px solid gray;box-sizing: border-box;top: 0;bottom: 0;left: 50%;z-index: -1;}#sk-container-id-2 div.sk-parallel-item {display: flex;flex-direction: column;z-index: 1;position: relative;background-color: white;}#sk-container-id-2 div.sk-parallel-item:first-child::after {align-self: flex-end;width: 50%;}#sk-container-id-2 div.sk-parallel-item:last-child::after {align-self: flex-start;width: 50%;}#sk-container-id-2 div.sk-parallel-item:only-child::after {width: 0;}#sk-container-id-2 div.sk-dashed-wrapped {border: 1px dashed gray;margin: 0 0.4em 0.5em 0.4em;box-sizing: border-box;padding-bottom: 0.4em;background-color: white;}#sk-container-id-2 div.sk-label label {font-family: monospace;font-weight: bold;display: inline-block;line-height: 1.2em;}#sk-container-id-2 div.sk-label-container {text-align: center;}#sk-container-id-2 div.sk-container {/* jupyter's `normalize.less` sets `[hidden] { display: none; }` but bootstrap.min.css set `[hidden] { display: none !important; }` so we also need the `!important` here to be able to override the default hidden behavior on the sphinx rendered scikit-learn.org. See: https://github.com/scikit-learn/scikit-learn/issues/21755 */display: inline-block !important;position: relative;}#sk-container-id-2 div.sk-text-repr-fallback {display: none;}</style><div id=\"sk-container-id-2\" class=\"sk-top-container\"><div class=\"sk-text-repr-fallback\"><pre>SVC()</pre><b>In a Jupyter environment, please rerun this cell to show the HTML representation or trust the notebook. <br />On GitHub, the HTML representation is unable to render, please try loading this page with nbviewer.org.</b></div><div class=\"sk-container\" hidden><div class=\"sk-item\"><div class=\"sk-estimator sk-toggleable\"><input class=\"sk-toggleable__control sk-hidden--visually\" id=\"sk-estimator-id-2\" type=\"checkbox\" checked><label for=\"sk-estimator-id-2\" class=\"sk-toggleable__label sk-toggleable__label-arrow\">SVC</label><div class=\"sk-toggleable__content\"><pre>SVC()</pre></div></div></div></div></div>"
      ],
      "text/plain": [
       "SVC()"
      ]
     },
     "execution_count": 60,
     "metadata": {},
     "output_type": "execute_result"
    }
   ],
   "source": [
    "svm.fit(X_train_os,Y_train_os)"
   ]
  },
  {
   "cell_type": "code",
   "execution_count": 61,
   "id": "64a10f17",
   "metadata": {
    "execution": {
     "iopub.execute_input": "2024-03-01T04:03:20.867825Z",
     "iopub.status.busy": "2024-03-01T04:03:20.867106Z",
     "iopub.status.idle": "2024-03-01T04:03:20.891176Z",
     "shell.execute_reply": "2024-03-01T04:03:20.889934Z"
    },
    "id": "9B1HCT8VD7G4",
    "outputId": "cce34bbc-ea76-47c1-bf3e-7a590f363d5f",
    "papermill": {
     "duration": 0.059244,
     "end_time": "2024-03-01T04:03:20.893398",
     "exception": false,
     "start_time": "2024-03-01T04:03:20.834154",
     "status": "completed"
    },
    "tags": []
   },
   "outputs": [
    {
     "name": "stdout",
     "output_type": "stream",
     "text": [
      "accuracy_score:  55.67567567567567\n",
      "precision_score:  62.142857142857146\n",
      "recall_score:  75.0\n",
      "f1_score:  67.96875\n",
      "confusion_matrix: \n",
      " [[16 53]\n",
      " [29 87]]\n"
     ]
    }
   ],
   "source": [
    "svm_pred = svm.predict(X_test)\n",
    "svm_cm= confusion_matrix(Y_test,svm_pred)\n",
    "svm_acc= accuracy_score(Y_test,svm_pred)*100\n",
    "svm_prec=precision_score(Y_test,svm_pred)*100\n",
    "svm_rec=recall_score(Y_test,svm_pred)*100\n",
    "svm_f1=f1_score(Y_test,svm_pred)*100\n",
    "print(\"accuracy_score: \", svm_acc)\n",
    "print(\"precision_score: \", svm_prec)\n",
    "print(\"recall_score: \", svm_rec)\n",
    "print(\"f1_score: \", svm_f1)\n",
    "print(\"confusion_matrix: \\n\", svm_cm)"
   ]
  },
  {
   "cell_type": "code",
   "execution_count": 62,
   "id": "383b8bee",
   "metadata": {
    "execution": {
     "iopub.execute_input": "2024-03-01T04:03:20.959195Z",
     "iopub.status.busy": "2024-03-01T04:03:20.958350Z",
     "iopub.status.idle": "2024-03-01T04:03:20.972177Z",
     "shell.execute_reply": "2024-03-01T04:03:20.971010Z"
    },
    "id": "0rczkcfDEFYo",
    "outputId": "7b90cd61-b72d-43b0-9198-d12b365e4502",
    "papermill": {
     "duration": 0.048155,
     "end_time": "2024-03-01T04:03:20.974184",
     "exception": false,
     "start_time": "2024-03-01T04:03:20.926029",
     "status": "completed"
    },
    "tags": []
   },
   "outputs": [
    {
     "name": "stdout",
     "output_type": "stream",
     "text": [
      "              precision    recall  f1-score   support\n",
      "\n",
      "           0       0.36      0.23      0.28        69\n",
      "           1       0.62      0.75      0.68       116\n",
      "\n",
      "    accuracy                           0.56       185\n",
      "   macro avg       0.49      0.49      0.48       185\n",
      "weighted avg       0.52      0.56      0.53       185\n",
      "\n"
     ]
    }
   ],
   "source": [
    "print(classification_report(Y_test,svm_pred))"
   ]
  },
  {
   "cell_type": "markdown",
   "id": "c8e65ef9",
   "metadata": {
    "id": "-eq2MqOapAW0",
    "papermill": {
     "duration": 0.030551,
     "end_time": "2024-03-01T04:03:21.035845",
     "exception": false,
     "start_time": "2024-03-01T04:03:21.005294",
     "status": "completed"
    },
    "tags": []
   },
   "source": [
    "# **Observation**\n",
    "\n",
    "**1.**From the above chart we can see that our target vairable distribution is highly imblanced.\n",
    "\n",
    "**2.**Majority of the customers is geting loan approved **(Yes)** 68.7%.\n",
    "\n",
    "**3.**Only 31.3% has **(Not)** loan not approved.\n",
    "\n",
    "**4.**Those who are married have higher chances of getting a loan approved.\n",
    "\n",
    "**5.**Those that are educated are better able to get their loans approved.\n",
    "\n",
    "**6.**People in the semiurban area are applying for loans in comparison to urban and rural areas.\n",
    "\n",
    "**7.**People in the semiurban area are well educated.\n",
    "\n",
    "**8.**On the histogram, we can see that those people whose salary above 5446 have a strong chances of getting a loan authorized.\n",
    "\n",
    "**9.**Those whose credit history is more than 0.562232 have an excellent chances of getting a loan approved.\n",
    "\n",
    "**10.** Outliers are present but are not considered as error points.\n",
    "\n",
    "\n",
    "**11.** the tested algorithms **(Logistic Regression, Support Vetor machine )**, LogisticRegression giving me Training accuracy **(74.5%)**."
   ]
  }
 ],
 "metadata": {
  "colab": {
   "provenance": []
  },
  "kaggle": {
   "accelerator": "none",
   "dataSources": [
    {
     "datasetId": 984121,
     "sourceId": 1662154,
     "sourceType": "datasetVersion"
    }
   ],
   "dockerImageVersionId": 30664,
   "isGpuEnabled": false,
   "isInternetEnabled": true,
   "language": "python",
   "sourceType": "notebook"
  },
  "kernelspec": {
   "display_name": "Python 3",
   "language": "python",
   "name": "python3"
  },
  "language_info": {
   "codemirror_mode": {
    "name": "ipython",
    "version": 3
   },
   "file_extension": ".py",
   "mimetype": "text/x-python",
   "name": "python",
   "nbconvert_exporter": "python",
   "pygments_lexer": "ipython3",
   "version": "3.10.13"
  },
  "papermill": {
   "default_parameters": {},
   "duration": 14.908817,
   "end_time": "2024-03-01T04:03:21.687462",
   "environment_variables": {},
   "exception": null,
   "input_path": "__notebook__.ipynb",
   "output_path": "__notebook__.ipynb",
   "parameters": {},
   "start_time": "2024-03-01T04:03:06.778645",
   "version": "2.5.0"
  }
 },
 "nbformat": 4,
 "nbformat_minor": 5
}
